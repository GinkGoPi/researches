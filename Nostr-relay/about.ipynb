{
  "cells": [
    {
      "cell_type": "markdown",
      "metadata": {
        "id": "view-in-github",
        "colab_type": "text"
      },
      "source": [
        "<a href=\"https://colab.research.google.com/github/GinkGoPi/researches/blob/main/Nostr-relay/about.ipynb\" target=\"_parent\"><img src=\"https://colab.research.google.com/assets/colab-badge.svg\" alt=\"Open In Colab\"/></a>"
      ]
    },
    {
      "cell_type": "markdown",
      "metadata": {
        "id": "dxgbwejGw75m"
      },
      "source": [
        "About nostr protocol and nostr relay implement"
      ]
    },
    {
      "cell_type": "markdown",
      "source": [
        "### Nostr\n",
        "> The simplest open protocol that “nostr” stands for “Notes and Other Stuff Transmitted by Relays” and is an open protocol for censorship-resistant global networks.\n"
      ],
      "metadata": {
        "id": "ZPz5Nl1bx-Xw"
      }
    },
    {
      "cell_type": "markdown",
      "source": [
        "\n",
        "slides.\n",
        "\n",
        "![1](https://pbs.twimg.com/media/FlAPnaPXkAAOzkO?format=png&name=small)\n",
        "\n",
        "![2](https://pbs.twimg.com/media/FlAPq3cXEAMf_yk?format=png&name=small)\n",
        "\n",
        "![3](https://pbs.twimg.com/media/FlAPsESXwAAPodr?format=png&name=small)\n",
        "\n",
        "![4](https://pbs.twimg.com/media/FlAPs3SX0AUqbhs?format=jpg&name=small)"
      ],
      "metadata": {
        "id": "MLt_KWQ50XoZ"
      }
    },
    {
      "cell_type": "markdown",
      "source": [
        "### NIP-05\n",
        "> Mapping Nostr keys to DNS-based internet identifiers\n"
      ],
      "metadata": {
        "id": "m5NXALUbw9_3"
      }
    },
    {
      "cell_type": "markdown",
      "source": [
        "Slides.\n",
        "\n",
        "![1](https://pbs.twimg.com/media/Fnk3oDxWYAEtHlb?format=jpg&name=small)\n",
        "\n",
        "![2](https://pbs.twimg.com/media/Fnk3pjkXoAA92c8?format=jpg&name=small)\n",
        "\n",
        "![3](https://pbs.twimg.com/media/Fnk3qMbX0AAYSoc?format=jpg&name=small)\n",
        "\n",
        "![4](https://pbs.twimg.com/media/Fnk3qyLWAAMe8D2?format=jpg&name=small)\n",
        "\n",
        "\n"
      ],
      "metadata": {
        "id": "hotzrhXM0dSG"
      }
    },
    {
      "cell_type": "code",
      "execution_count": null,
      "metadata": {
        "id": "UCp9PgZEw75p"
      },
      "outputs": [],
      "source": []
    }
  ],
  "metadata": {
    "language_info": {
      "name": "python"
    },
    "orig_nbformat": 4,
    "colab": {
      "provenance": [],
      "include_colab_link": true
    }
  },
  "nbformat": 4,
  "nbformat_minor": 0
}