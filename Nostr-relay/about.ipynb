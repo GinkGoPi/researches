{
  "cells": [
    {
      "cell_type": "markdown",
      "metadata": {
        "id": "view-in-github",
        "colab_type": "text"
      },
      "source": [
        "<a href=\"https://colab.research.google.com/github/GinkGoPi/researches/blob/main/Nostr-relay/about.ipynb\" target=\"_parent\"><img src=\"https://colab.research.google.com/assets/colab-badge.svg\" alt=\"Open In Colab\"/></a>"
      ]
    },
    {
      "cell_type": "markdown",
      "metadata": {
        "id": "dxgbwejGw75m"
      },
      "source": [
        "About nostr protocol and nostr relay implement"
      ]
    },
    {
      "cell_type": "markdown",
      "source": [
        "### Nostr\n",
        "> The simplest open protocol that “nostr” stands for “Notes and Other Stuff Transmitted by Relays” and is an open protocol for censorship-resistant global networks.\n"
      ],
      "metadata": {
        "id": "ZPz5Nl1bx-Xw"
      }
    },
    {
      "cell_type": "markdown",
      "source": [
        "\n",
        "slides.\n",
        "\n",
        "![1](https://pbs.twimg.com/media/FlAPnaPXkAAOzkO?format=png&name=small)\n",
        "\n",
        "![2](https://pbs.twimg.com/media/FlAPq3cXEAMf_yk?format=png&name=small)\n",
        "\n",
        "![3](https://pbs.twimg.com/media/FlAPsESXwAAPodr?format=png&name=small)\n",
        "\n",
        "![4](https://pbs.twimg.com/media/FlAPs3SX0AUqbhs?format=jpg&name=small)"
      ],
      "metadata": {
        "id": "MLt_KWQ50XoZ"
      }
    },
    {
      "cell_type": "markdown",
      "source": [
        "Nostr relay\n",
        "> Expose websocket endpoint(ws://) serves, whcih clients can connect.\n",
        "\n",
        "They can send **three types of messages**(but must be JSON Arrays).\n",
        "- [EVENT, <event JSON as defined below at '[Message] Event'>]\n",
        "    - used to publish events\n",
        "- [REQ, <subscription_id>, <filters JSON>...]\n",
        "    - used to request events and subscribe to new updates\n",
        "- [CLOSE, <subscription_id>]\n",
        "    - used to stop previous subscriptions\n",
        "\n",
        "The event contains the following:\n",
        "```\n",
        "{\n",
        "  \"id\": <32-bytes sha256 of the the serialized event data>,\n",
        "  \"pubkey\": <32-bytes hex-encoded public key of the event creator>,\n",
        "  \"created_at\": <unix timestamp in seconds>,\n",
        "  \"kind\": <integer>,\n",
        "  \"tags\": [\n",
        "    [\"e\", <32-bytes hex of the id of another event>, <recommended relay URL>],\n",
        "    [\"p\", <32-bytes hex of the key>, <recommended relay URL>],\n",
        "    ... // other kinds of tags may be included later\n",
        "  ]\n",
        "  \"content\": <arbitrary string>,\n",
        "  \"sig\": <64-bytes signature of the sha256 hash of the serialized event data, which is the same as the \"id\" field>,\n",
        "}\n",
        "```"
      ],
      "metadata": {
        "id": "Izik8h8YKD5f"
      }
    },
    {
      "cell_type": "markdown",
      "source": [
        "#### **Important Information**\n",
        "\n",
        "**Web API**\n",
        "\n",
        "- Relay Communication: Websocket (wss://)\n",
        "\n",
        "**Serialization**\n",
        "\n",
        "- Serialization of Event: UTF-8 JSON-serialized string\n",
        "- Client Message Serialization: JSON Arrays\n",
        "\n",
        "**Cryptography**\n",
        "- Digital Signature: Schnorr Signature\n",
        "- Curve: secp256k1\n",
        "- Hash Function: SHA256\n",
        "\n",
        "**Communication Components**\n",
        "    \n",
        "- Components:\n",
        "    - Client\n",
        "    - Relay\n",
        "\n",
        "[Events] From Client-To-Relay (NIP-01)\n",
        "- Type Of Events:\n",
        "\n",
        "    - EVENT\n",
        "\n",
        "        - [\"EVENT\", <event JSON as defined in '[Message] Event'>]\n",
        "    - REQ\n",
        "\n",
        "        - [\"REQ\", <subscription_id>, <filters JSON>...]\n",
        "    - CLOSE\n",
        "\n",
        "        - [\"CLOSE\", <subscription_id>]\n",
        "\n",
        "[Events] From Relay-To-Client (NIP-01)\n",
        "- Type of Events:\n",
        "\n",
        "    - EVENT\n",
        "\n",
        "        - Description: Used to send events requested by clients\n",
        "        - [\"EVENT\", <subscription_id>, <event JSON as defined in '[Message] Event'>]\n",
        "\n",
        "    - NOTICE\n",
        "\n",
        "        - Description: Used to send human-readable error messages or other things to clients; There are no rules for how NOTICE messages should be sent or treated (as of NIP-01)\n",
        "        - [\"NOTICE\", <message>]"
      ],
      "metadata": {
        "id": "qlf-a0xVLYVj"
      }
    },
    {
      "cell_type": "markdown",
      "source": [
        "### Block in relay\n",
        "\n",
        "> A relay can block a user from publishing anything there, but that has no effect on them as they can still publish to other relays."
      ],
      "metadata": {
        "id": "OqcK6ruB_G7J"
      }
    },
    {
      "cell_type": "markdown",
      "source": [
        "🤔 How to block events in relay?\n",
        "\n"
      ],
      "metadata": {
        "id": "mhIVPlG__Kwu"
      }
    },
    {
      "cell_type": "code",
      "source": [],
      "metadata": {
        "id": "JbttMO-C_Iug"
      },
      "execution_count": null,
      "outputs": []
    },
    {
      "cell_type": "markdown",
      "source": [
        "### NIP-05\n",
        "> Mapping Nostr keys to DNS-based internet identifiers\n"
      ],
      "metadata": {
        "id": "m5NXALUbw9_3"
      }
    },
    {
      "cell_type": "markdown",
      "source": [
        "Slides.\n",
        "\n",
        "![1](https://pbs.twimg.com/media/Fnk3oDxWYAEtHlb?format=jpg&name=small)\n",
        "\n",
        "![2](https://pbs.twimg.com/media/Fnk3pjkXoAA92c8?format=jpg&name=small)\n",
        "\n",
        "![3](https://pbs.twimg.com/media/Fnk3qMbX0AAYSoc?format=jpg&name=small)\n",
        "\n",
        "![4](https://pbs.twimg.com/media/Fnk3qyLWAAMe8D2?format=jpg&name=small)\n",
        "\n",
        "\n"
      ],
      "metadata": {
        "id": "hotzrhXM0dSG"
      }
    },
    {
      "cell_type": "code",
      "execution_count": null,
      "metadata": {
        "id": "UCp9PgZEw75p"
      },
      "outputs": [],
      "source": []
    }
  ],
  "metadata": {
    "language_info": {
      "name": "python"
    },
    "orig_nbformat": 4,
    "colab": {
      "provenance": [],
      "include_colab_link": true
    }
  },
  "nbformat": 4,
  "nbformat_minor": 0
}