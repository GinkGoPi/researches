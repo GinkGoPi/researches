{
  "cells": [
    {
      "cell_type": "markdown",
      "metadata": {
        "id": "view-in-github",
        "colab_type": "text"
      },
      "source": [
        "<a href=\"https://colab.research.google.com/github/GinkGoPi/researches/blob/main/token-stake/simple.ipynb\" target=\"_parent\"><img src=\"https://colab.research.google.com/assets/colab-badge.svg\" alt=\"Open In Colab\"/></a>"
      ]
    },
    {
      "cell_type": "markdown",
      "metadata": {
        "id": "bhXw0Egj1HSS"
      },
      "source": [
        "# Simeple about token staking and reward"
      ]
    },
    {
      "cell_type": "markdown",
      "metadata": {
        "id": "w0dDNKCO1HSV"
      },
      "source": [
        "> 模拟简单模型的staking和reward的逻辑和计算"
      ]
    },
    {
      "cell_type": "markdown",
      "source": [
        "`Staking`中用户存入了一定数量的token，pool中reward token通过外部打入，然后在一个周期内将其按照用户质押的数量占比分配掉reward token\n",
        "\n",
        "合约中奖励的分配是**平均每秒**的释放方式，比如\n",
        "```\n",
        "一个周期为60个单位时间，打入奖励token的数量6,此时：\n",
        "lastUpdateTime=0；periodFinish=60；rewardPerTokenStored=0\n",
        "rewardRate = 6/60 = 0.1\n",
        "rewards[UserA] = 0\n",
        "\n",
        "UserA在第0个单位时间stake了100个token,此时：\n",
        "    balanceOf(UserA) = 100\n",
        "    total = 100\n",
        "\n",
        "{ \n",
        "    第10个单位时间，此时计算UserA的收益：\n",
        "    temp_rewardPerTokenStored = rewardPerTokenStored + (lastTimeRewardApplicable - lastUpdateTime) * rewardRate / total = 0 + (10-0)*0.1/100 = 0.001\n",
        "    rewards = rewards[UserA] + balanceOf(UserA) * (temp_rewardPerTokenStored - userRewardPerTokenPaid[UserA]) = 0 + 100*(0.001-0)=1\n",
        "}\n",
        "\n",
        "UserB在第10个单位时间stake了200个token，此时：\n",
        "    rewardPerTokenStored = rewardPerTokenStored + (lastTimeRewardApplicable - lastUpdateTime) * rewardRate / total = 0 + (10-0)*0.1/100 = 0.01\n",
        "    lastUpdateTime = 10\n",
        "    userRewardPerTokenPaid[UserB] = rewardPerTokenStored = 0.01\n",
        "    balanceOf(UserB) = 200\n",
        "    total = 300\n",
        "\n",
        "{ \n",
        "    第20个单位时间，此时计算UserA的收益：\n",
        "    temp_rewardPerTokenStored = rewardPerTokenStored + (lastTimeRewardApplicable - lastUpdateTime) * rewardRate / total = 0.01 + (20-10)*0.1/300 = 0.0133\n",
        "    rewards = rewards[UserA] + balanceOf(UserA) * (temp_rewardPerTokenStored - userRewardPerTokenPaid[UserA]) = 0 + 100*(0.0133-0)=1.33\n",
        "\n",
        "    第20个单位时间，此时计算UserB的收益：\n",
        "    temp_rewardPerTokenStored = 0.0133\n",
        "    rewards = rewards[UserB] + balanceOf(UserB) * (temp_rewardPerTokenStored - userRewardPerTokenPaid[UserB]) = 0 + 200*(0.0133-0.01) = 0.66\n",
        "}\n",
        "    \n",
        "```"
      ],
      "metadata": {
        "id": "6jjVV42IyCq_"
      }
    },
    {
      "cell_type": "code",
      "execution_count": 1,
      "metadata": {
        "id": "6-vmvlfW1HSW"
      },
      "outputs": [],
      "source": [
        "import calendar\n",
        "import time"
      ]
    },
    {
      "cell_type": "code",
      "execution_count": 2,
      "metadata": {
        "id": "dHbeYJ1w1HSX",
        "outputId": "329643e3-1245-4f4e-f09b-52b6f2bd4750",
        "colab": {
          "base_uri": "https://localhost:8080/"
        }
      },
      "outputs": [
        {
          "output_type": "execute_result",
          "data": {
            "text/plain": [
              "1675318795"
            ]
          },
          "metadata": {},
          "execution_count": 2
        }
      ],
      "source": [
        "calendar.timegm(time.gmtime())"
      ]
    },
    {
      "cell_type": "code",
      "execution_count": 3,
      "metadata": {
        "id": "FYxrpk_51HSY",
        "outputId": "7118d487-0dd9-4837-b753-3b73234f47ce",
        "colab": {
          "base_uri": "https://localhost:8080/"
        }
      },
      "outputs": [
        {
          "output_type": "stream",
          "name": "stderr",
          "text": [
            "<>:68: SyntaxWarning: assertion is always true, perhaps remove parentheses?\n",
            "<>:68: SyntaxWarning: assertion is always true, perhaps remove parentheses?\n",
            "<ipython-input-3-8bff1e5d3881>:68: SyntaxWarning: assertion is always true, perhaps remove parentheses?\n",
            "  assert(self.rewardRate > 0, \"reward rate = 0\")\n"
          ]
        }
      ],
      "source": [
        "class SimepleStakingRewards(object):\n",
        "    \n",
        "    def __init__(self) -> None:\n",
        "        self.stakingToken = 'stakingToken'\n",
        "        self.rewardsToken = 'rewardsToken'\n",
        "\n",
        "        self.periodFinish = 0\n",
        "        self.lastUpdateTime = 0\n",
        "        self.duration = 1 * 60*60*24 # seconds\n",
        "\n",
        "        self.rewardRate = 0\n",
        "        self.rewardPerTokenStored = 0\n",
        "\n",
        "        self.userRewardPerTokenPaid = {'address_0': 0, 'alice': 0, 'bob': 0, 'kite': 0}\n",
        "        self.rewards = {'address_0': 0, 'alice': 0, 'bob': 0, 'kite': 0}\n",
        "\n",
        "        self.totalSupply = 0\n",
        "        self.balanceOf = {'address_0': 0, 'alice': 0, 'bob': 0, 'kite': 0}\n",
        "    \n",
        "    def stake(self, address: str, amount: int):\n",
        "        self.updateReward(address)\n",
        "        self.balanceOf[address] += amount\n",
        "        self.totalSupply += amount\n",
        "    \n",
        "    def withdraw(self, to: str, amount: int):\n",
        "        self.updateReward(to)\n",
        "        self.balanceOf[to] -= amount\n",
        "        self.totalSupply -= amount\n",
        "        return amount\n",
        "      \n",
        "    def updateReward(self, _account: str):\n",
        "        self.rewardPerTokenStored = self.rewardPerToken()\n",
        "        self.lastUpdateTime = self.lastTimeRewardApplicable()\n",
        "\n",
        "        if _account != \"address_0\":\n",
        "            self.rewards[_account] = self.earned(_account)\n",
        "            self.userRewardPerTokenPaid[_account] = self.rewardPerTokenStored\n",
        "    \n",
        "    def rewardPerToken(self):\n",
        "        if self.totalSupply == 0:\n",
        "            return self.rewardPerTokenStored\n",
        "        else:\n",
        "            return self.rewardPerTokenStored + (self.rewardRate * (self.lastTimeRewardApplicable() - self.lastUpdateTime) * 1e18) / self.totalSupply\n",
        "\n",
        "    def earned(self, _account: str):\n",
        "        return ((self.balanceOf[_account] *\n",
        "                (self.rewardPerToken() - self.userRewardPerTokenPaid[_account])) / 1e18) + self.rewards[_account]\n",
        "\n",
        "    def getReward(self, to: str):\n",
        "        \"\"\"Gain reward token\"\"\"\n",
        "        self.updateReward(to)\n",
        "        reward = self.rewards[to]\n",
        "        if reward > 0:\n",
        "            self.rewards[to] = 0\n",
        "            # rewardsToken.transfer(to, reward)\n",
        "        \n",
        "        return reward\n",
        "\n",
        "    def notifyRewardAmount(self, _amount: int):\n",
        "        self.updateReward(\"address_0\")\n",
        "        if self.blockTimestamp() >= self.periodFinish:\n",
        "            self.rewardRate = _amount / self.duration\n",
        "        else:\n",
        "            remainingRewards = (self.periodFinish - self.blockTimestamp()) * self.rewardRate\n",
        "            self.rewardRate = (_amount + remainingRewards) / self.duration\n",
        "        \n",
        "\n",
        "        assert(self.rewardRate > 0, \"reward rate = 0\")\n",
        "\n",
        "        self.lastUpdateTime = self.blockTimestamp()\n",
        "        self.periodFinish = self.blockTimestamp() + self.duration\n",
        "        \n",
        "    \n",
        "    def lastTimeRewardApplicable(self):\n",
        "        return self.periodFinish if self.periodFinish <= self.blockTimestamp() else self.blockTimestamp()\n",
        "\n",
        "    def blockTimestamp(self):\n",
        "        \"\"\"Akin to `block.timestamp`\"\"\"\n",
        "        return calendar.timegm(time.gmtime())\n",
        "\n"
      ]
    },
    {
      "cell_type": "code",
      "source": [
        "# init\n",
        "pool = SimepleStakingRewards()\n",
        "\n",
        "print(\"init stake total amount\", pool.totalSupply)\n",
        "print(\"init stake rewardRate\", pool.rewardRate)"
      ],
      "metadata": {
        "id": "7VwiPqsv6LdB",
        "outputId": "e04ffc76-1c9f-4625-802d-e349e161664c",
        "colab": {
          "base_uri": "https://localhost:8080/"
        }
      },
      "execution_count": 4,
      "outputs": [
        {
          "output_type": "stream",
          "name": "stdout",
          "text": [
            "init stake total amount 0\n",
            "init stake rewardRate 0\n"
          ]
        }
      ]
    },
    {
      "cell_type": "code",
      "source": [
        "# add new rewards\n",
        "rewards = 10e18\n",
        "\n",
        "pool.notifyRewardAmount(rewards)\n",
        "\n",
        "print(\"current total amount\", pool.totalSupply)\n",
        "print(\"current rewardRate\", pool.rewardRate)\n",
        "print(\"current periodFinish\", pool.periodFinish)\n",
        "print(\"current lastUpdateTime\", pool.lastUpdateTime)\n",
        "print(\"current rewardPerTokenStored\", pool.rewardPerTokenStored)"
      ],
      "metadata": {
        "id": "piW8M-jJ6thk",
        "outputId": "3f878743-04ef-4327-84d0-ad09cea67961",
        "colab": {
          "base_uri": "https://localhost:8080/"
        }
      },
      "execution_count": 5,
      "outputs": [
        {
          "output_type": "stream",
          "name": "stdout",
          "text": [
            "current total amount 0\n",
            "current rewardRate 115740740740740.73\n",
            "current periodFinish 1675408116\n",
            "current lastUpdateTime 1675321716\n",
            "current rewardPerTokenStored 0\n"
          ]
        }
      ]
    },
    {
      "cell_type": "code",
      "source": [
        "# Alice staking\n",
        "\n",
        "alice = \"alice\"\n",
        "stakingAmount = 100e18\n",
        "\n",
        "pool.stake(alice, stakingAmount)\n",
        "\n",
        "print(\"current total amount\", pool.totalSupply)\n",
        "print(\"current rewardRate\", pool.rewardRate)\n",
        "print(\"current periodFinish\", pool.periodFinish)\n",
        "print(\"current lastUpdateTime\", pool.lastUpdateTime)\n",
        "\n",
        "print(\"current rewardPerTokenStored\", pool.rewardPerTokenStored)\n",
        "\n",
        "print(\"alice staked\", pool.balanceOf[alice])\n",
        "print(\"alice rewards\", pool.rewards[alice])\n",
        "print(\"alice userRewardPerTokenPaid\", pool.userRewardPerTokenPaid[alice])\n"
      ],
      "metadata": {
        "id": "F0dzyWUb7J-b",
        "outputId": "826bf42d-3f56-4884-af21-06ab94cb996a",
        "colab": {
          "base_uri": "https://localhost:8080/"
        }
      },
      "execution_count": 6,
      "outputs": [
        {
          "output_type": "stream",
          "name": "stdout",
          "text": [
            "current total amount 1e+20\n",
            "current rewardRate 115740740740740.73\n",
            "current periodFinish 1675408116\n",
            "current lastUpdateTime 1675321723\n",
            "current rewardPerTokenStored 0\n",
            "alice staked 1e+20\n",
            "alice rewards 0.0\n",
            "alice userRewardPerTokenPaid 0\n"
          ]
        }
      ]
    },
    {
      "cell_type": "code",
      "source": [
        "print(\"T1 query alice current earned\", pool.earned(alice))"
      ],
      "metadata": {
        "id": "LkkjNCrB8wFF",
        "outputId": "8780b463-9bf7-40c6-a6d4-319ce7533616",
        "colab": {
          "base_uri": "https://localhost:8080/"
        }
      },
      "execution_count": 7,
      "outputs": [
        {
          "output_type": "stream",
          "name": "stdout",
          "text": [
            "T1 query alice current earned 347222222222222.2\n"
          ]
        }
      ]
    },
    {
      "cell_type": "code",
      "source": [
        "print(\"T2 query alice current earned\", pool.earned(alice))"
      ],
      "metadata": {
        "id": "YqezadUW-BX8",
        "outputId": "b292cd6c-8ad0-4461-9f2e-98a7cdd83e22",
        "colab": {
          "base_uri": "https://localhost:8080/"
        }
      },
      "execution_count": 8,
      "outputs": [
        {
          "output_type": "stream",
          "name": "stdout",
          "text": [
            "T2 query alice current earned 694444444444444.4\n"
          ]
        }
      ]
    },
    {
      "cell_type": "code",
      "source": [],
      "metadata": {
        "id": "fDV79VlK-6xs"
      },
      "execution_count": 8,
      "outputs": []
    },
    {
      "cell_type": "code",
      "source": [
        "# Bob staking\n",
        "\n",
        "bob = \"bob\"\n",
        "stakingAmount = 200e18\n",
        "\n",
        "pool.stake(bob, stakingAmount)\n",
        "\n",
        "print(\"current total amount\", pool.totalSupply)\n",
        "print(\"current rewardRate\", pool.rewardRate)\n",
        "print(\"current periodFinish\", pool.periodFinish)\n",
        "print(\"current lastUpdateTime\", pool.lastUpdateTime)\n",
        "\n",
        "print(\"current rewardPerTokenStored\", pool.rewardPerTokenStored)\n",
        "\n",
        "print(\"bob staked\", pool.balanceOf[bob])\n",
        "print(\"bob rewards\", pool.rewards[bob])\n",
        "print(\"bob userRewardPerTokenPaid\", pool.userRewardPerTokenPaid[bob])"
      ],
      "metadata": {
        "id": "SrOUgkZD--iE",
        "outputId": "739e2355-daab-42b2-8fb2-4065be1edeb7",
        "colab": {
          "base_uri": "https://localhost:8080/"
        }
      },
      "execution_count": 9,
      "outputs": [
        {
          "output_type": "stream",
          "name": "stdout",
          "text": [
            "current total amount 3e+20\n",
            "current rewardRate 115740740740740.73\n",
            "current periodFinish 1675408116\n",
            "current lastUpdateTime 1675321732\n",
            "current rewardPerTokenStored 10416666666666.666\n",
            "bob staked 2e+20\n",
            "bob rewards 0.0\n",
            "bob userRewardPerTokenPaid 10416666666666.666\n"
          ]
        }
      ]
    },
    {
      "cell_type": "code",
      "source": [
        "print(\"T1 query bob current earned\", pool.earned(bob))\n"
      ],
      "metadata": {
        "id": "-btT1E5A_IEx",
        "outputId": "e8301934-cc5c-4916-85fc-acb06428641f",
        "colab": {
          "base_uri": "https://localhost:8080/"
        }
      },
      "execution_count": 10,
      "outputs": [
        {
          "output_type": "stream",
          "name": "stdout",
          "text": [
            "T1 query bob current earned 231481481481481.66\n"
          ]
        }
      ]
    },
    {
      "cell_type": "code",
      "source": [
        "print(\"T2 query bob current earned\", pool.earned(bob))\n"
      ],
      "metadata": {
        "id": "phP2D7F3_K4_",
        "outputId": "d4a6ee4a-2bdf-453c-cf64-f9e8e65d186c",
        "colab": {
          "base_uri": "https://localhost:8080/"
        }
      },
      "execution_count": 11,
      "outputs": [
        {
          "output_type": "stream",
          "name": "stdout",
          "text": [
            "T2 query bob current earned 385802469135802.3\n"
          ]
        }
      ]
    },
    {
      "cell_type": "code",
      "source": [],
      "metadata": {
        "id": "7pnr7T-O_SQq"
      },
      "execution_count": 11,
      "outputs": []
    },
    {
      "cell_type": "code",
      "source": [
        "# Bob staking again\n",
        "\n",
        "bob = \"bob\"\n",
        "stakingAmount = 100e18\n",
        "\n",
        "pool.stake(bob, stakingAmount)\n",
        "\n",
        "print(\"current total amount\", pool.totalSupply)\n",
        "print(\"current rewardRate\", pool.rewardRate)\n",
        "print(\"current periodFinish\", pool.periodFinish)\n",
        "print(\"current lastUpdateTime\", pool.lastUpdateTime)\n",
        "\n",
        "print(\"current rewardPerTokenStored\", pool.rewardPerTokenStored)\n",
        "\n",
        "print(\"bob staked\", pool.balanceOf[bob])\n",
        "print(\"bob rewards\", pool.rewards[bob])\n",
        "print(\"bob userRewardPerTokenPaid\", pool.userRewardPerTokenPaid[bob])"
      ],
      "metadata": {
        "id": "tKZKJyre_UYO",
        "outputId": "e501d61c-42ba-4b3b-f0c0-b44f1c7bbea9",
        "colab": {
          "base_uri": "https://localhost:8080/"
        }
      },
      "execution_count": 12,
      "outputs": [
        {
          "output_type": "stream",
          "name": "stdout",
          "text": [
            "current total amount 4e+20\n",
            "current rewardRate 115740740740740.73\n",
            "current periodFinish 1675408116\n",
            "current lastUpdateTime 1675321740\n",
            "current rewardPerTokenStored 13503086419753.086\n",
            "bob staked 3e+20\n",
            "bob rewards 617283950617284.0\n",
            "bob userRewardPerTokenPaid 13503086419753.086\n"
          ]
        }
      ]
    },
    {
      "cell_type": "code",
      "source": [
        "print(\"T3 query bob current earned\", pool.earned(bob))\n"
      ],
      "metadata": {
        "id": "Qul5cDkj_h6q",
        "outputId": "9b355ccb-574a-4bdd-dc13-398c1869422b",
        "colab": {
          "base_uri": "https://localhost:8080/"
        }
      },
      "execution_count": 13,
      "outputs": [
        {
          "output_type": "stream",
          "name": "stdout",
          "text": [
            "T3 query bob current earned 877700617283950.4\n"
          ]
        }
      ]
    },
    {
      "cell_type": "code",
      "source": [
        "print(\"T4 query bob current earned\", pool.earned(bob))\n"
      ],
      "metadata": {
        "id": "7Nsio5xL_lI3",
        "outputId": "3449e87c-51fa-4221-ff28-5a6b258a4702",
        "colab": {
          "base_uri": "https://localhost:8080/"
        }
      },
      "execution_count": 14,
      "outputs": [
        {
          "output_type": "stream",
          "name": "stdout",
          "text": [
            "T4 query bob current earned 1051311728395062.0\n"
          ]
        }
      ]
    },
    {
      "cell_type": "code",
      "source": [],
      "metadata": {
        "id": "ZRt5i-W-_msF"
      },
      "execution_count": 14,
      "outputs": []
    },
    {
      "cell_type": "code",
      "source": [
        "# alice withdraw and getReward\n",
        "\n",
        "unstakingAmount = 50e18\n",
        "unstakedAmount = pool.withdraw(alice, unstakingAmount)\n",
        "\n",
        "print('alice unstaked amount', unstakedAmount)\n",
        "\n",
        "print(\"current total amount\", pool.totalSupply)\n",
        "print(\"current rewardRate\", pool.rewardRate)\n",
        "print(\"current periodFinish\", pool.periodFinish)\n",
        "print(\"current lastUpdateTime\", pool.lastUpdateTime)\n",
        "\n",
        "print(\"current rewardPerTokenStored\", pool.rewardPerTokenStored)"
      ],
      "metadata": {
        "id": "cifvCWaX_ntM",
        "outputId": "de1d7dc1-d088-4ad7-e41d-79ed1c3813ee",
        "colab": {
          "base_uri": "https://localhost:8080/"
        }
      },
      "execution_count": 15,
      "outputs": [
        {
          "output_type": "stream",
          "name": "stdout",
          "text": [
            "alice unstaked amount 5e+19\n",
            "current total amount 3.5e+20\n",
            "current rewardRate 115740740740740.73\n",
            "current periodFinish 1675408116\n",
            "current lastUpdateTime 1675321749\n",
            "current rewardPerTokenStored 16107253086419.752\n"
          ]
        }
      ]
    },
    {
      "cell_type": "code",
      "source": [
        "print(\"alice staked\", pool.balanceOf[alice])\n",
        "print(\"alice rewards\", pool.rewards[alice])\n",
        "print(\"alice userRewardPerTokenPaid\", pool.userRewardPerTokenPaid[alice])\n",
        "\n",
        "print(\"Tn query alice current earned\", pool.earned(alice))"
      ],
      "metadata": {
        "id": "Qh4SNYYSAnaO",
        "outputId": "b2d59651-f203-4410-c79f-8270e6b4b48f",
        "colab": {
          "base_uri": "https://localhost:8080/"
        }
      },
      "execution_count": 16,
      "outputs": [
        {
          "output_type": "stream",
          "name": "stdout",
          "text": [
            "alice staked 5e+19\n",
            "alice rewards 1610725308641975.0\n",
            "alice userRewardPerTokenPaid 16107253086419.752\n",
            "Tn query alice current earned 1660328483245149.5\n"
          ]
        }
      ]
    },
    {
      "cell_type": "code",
      "source": [
        "# alice getReward\n",
        "\n",
        "aliceRewards = pool.getReward(alice)\n",
        "\n",
        "print('alice getReward amount', aliceRewards)\n"
      ],
      "metadata": {
        "id": "SUZYR20SA6hd",
        "outputId": "56f86ae8-15e6-449a-9455-50dc46474dfa",
        "colab": {
          "base_uri": "https://localhost:8080/"
        }
      },
      "execution_count": 17,
      "outputs": [
        {
          "output_type": "stream",
          "name": "stdout",
          "text": [
            "alice getReward amount 1743000440917107.2\n"
          ]
        }
      ]
    },
    {
      "cell_type": "code",
      "source": [
        "print(\"current total amount\", pool.totalSupply)\n",
        "print(\"current rewardRate\", pool.rewardRate)\n",
        "print(\"current periodFinish\", pool.periodFinish)\n",
        "print(\"current lastUpdateTime\", pool.lastUpdateTime)\n",
        "\n",
        "print(\"alice staked\", pool.balanceOf[alice])\n",
        "print(\"alice rewards\", pool.rewards[alice])\n",
        "print(\"alice userRewardPerTokenPaid\", pool.userRewardPerTokenPaid[alice])\n",
        "\n",
        "print(\"Tn query alice current earned\", pool.earned(alice))"
      ],
      "metadata": {
        "id": "m6hTUgXiBQ44",
        "outputId": "002d22fe-f891-455c-a024-f228f02abb7b",
        "colab": {
          "base_uri": "https://localhost:8080/"
        }
      },
      "execution_count": 18,
      "outputs": [
        {
          "output_type": "stream",
          "name": "stdout",
          "text": [
            "current total amount 3.5e+20\n",
            "current rewardRate 115740740740740.73\n",
            "current periodFinish 1675408116\n",
            "current lastUpdateTime 1675321757\n",
            "alice staked 5e+19\n",
            "alice rewards 0\n",
            "alice userRewardPerTokenPaid 18752755731922.4\n",
            "Tn query alice current earned 82671957671957.61\n"
          ]
        }
      ]
    },
    {
      "cell_type": "code",
      "source": [],
      "metadata": {
        "id": "F-mvZh85BSRe"
      },
      "execution_count": null,
      "outputs": []
    }
  ],
  "metadata": {
    "kernelspec": {
      "display_name": "Python 3",
      "language": "python",
      "name": "python3"
    },
    "language_info": {
      "codemirror_mode": {
        "name": "ipython",
        "version": 3
      },
      "file_extension": ".py",
      "mimetype": "text/x-python",
      "name": "python",
      "nbconvert_exporter": "python",
      "pygments_lexer": "ipython3",
      "version": "3.10.4"
    },
    "orig_nbformat": 4,
    "vscode": {
      "interpreter": {
        "hash": "3ad933181bd8a04b432d3370b9dc3b0662ad032c4dfaa4e4f1596c548f763858"
      }
    },
    "colab": {
      "provenance": [],
      "include_colab_link": true
    }
  },
  "nbformat": 4,
  "nbformat_minor": 0
}