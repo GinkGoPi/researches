{
  "cells": [
    {
      "cell_type": "markdown",
      "metadata": {
        "id": "view-in-github",
        "colab_type": "text"
      },
      "source": [
        "<a href=\"https://colab.research.google.com/github/GinkGoPi/researches/blob/main/token-stake/simple.ipynb\" target=\"_parent\"><img src=\"https://colab.research.google.com/assets/colab-badge.svg\" alt=\"Open In Colab\"/></a>"
      ]
    },
    {
      "cell_type": "markdown",
      "metadata": {
        "id": "bhXw0Egj1HSS"
      },
      "source": [
        "# Simeple about token staking and reward"
      ]
    },
    {
      "cell_type": "markdown",
      "metadata": {
        "id": "w0dDNKCO1HSV"
      },
      "source": [
        "> 模拟简单模型的staking和reward的逻辑和计算"
      ]
    },
    {
      "cell_type": "code",
      "execution_count": 1,
      "metadata": {
        "id": "6-vmvlfW1HSW"
      },
      "outputs": [],
      "source": [
        "import calendar\n",
        "import time"
      ]
    },
    {
      "cell_type": "code",
      "execution_count": 2,
      "metadata": {
        "id": "dHbeYJ1w1HSX",
        "outputId": "5b21b734-71c5-41a0-be92-500a26f43b82",
        "colab": {
          "base_uri": "https://localhost:8080/"
        }
      },
      "outputs": [
        {
          "output_type": "execute_result",
          "data": {
            "text/plain": [
              "1675235779"
            ]
          },
          "metadata": {},
          "execution_count": 2
        }
      ],
      "source": [
        "calendar.timegm(time.gmtime())"
      ]
    },
    {
      "cell_type": "code",
      "execution_count": 22,
      "metadata": {
        "id": "FYxrpk_51HSY",
        "outputId": "c6543196-d4b7-416a-dd05-251eb9a579aa",
        "colab": {
          "base_uri": "https://localhost:8080/"
        }
      },
      "outputs": [
        {
          "output_type": "stream",
          "name": "stderr",
          "text": [
            "<>:68: SyntaxWarning: assertion is always true, perhaps remove parentheses?\n",
            "<>:68: SyntaxWarning: assertion is always true, perhaps remove parentheses?\n",
            "<ipython-input-22-8bff1e5d3881>:68: SyntaxWarning: assertion is always true, perhaps remove parentheses?\n",
            "  assert(self.rewardRate > 0, \"reward rate = 0\")\n"
          ]
        }
      ],
      "source": [
        "class SimepleStakingRewards(object):\n",
        "    \n",
        "    def __init__(self) -> None:\n",
        "        self.stakingToken = 'stakingToken'\n",
        "        self.rewardsToken = 'rewardsToken'\n",
        "\n",
        "        self.periodFinish = 0\n",
        "        self.lastUpdateTime = 0\n",
        "        self.duration = 1 * 60*60*24 # seconds\n",
        "\n",
        "        self.rewardRate = 0\n",
        "        self.rewardPerTokenStored = 0\n",
        "\n",
        "        self.userRewardPerTokenPaid = {'address_0': 0, 'alice': 0, 'bob': 0, 'kite': 0}\n",
        "        self.rewards = {'address_0': 0, 'alice': 0, 'bob': 0, 'kite': 0}\n",
        "\n",
        "        self.totalSupply = 0\n",
        "        self.balanceOf = {'address_0': 0, 'alice': 0, 'bob': 0, 'kite': 0}\n",
        "    \n",
        "    def stake(self, address: str, amount: int):\n",
        "        self.updateReward(address)\n",
        "        self.balanceOf[address] += amount\n",
        "        self.totalSupply += amount\n",
        "    \n",
        "    def withdraw(self, to: str, amount: int):\n",
        "        self.updateReward(to)\n",
        "        self.balanceOf[to] -= amount\n",
        "        self.totalSupply -= amount\n",
        "        return amount\n",
        "      \n",
        "    def updateReward(self, _account: str):\n",
        "        self.rewardPerTokenStored = self.rewardPerToken()\n",
        "        self.lastUpdateTime = self.lastTimeRewardApplicable()\n",
        "\n",
        "        if _account != \"address_0\":\n",
        "            self.rewards[_account] = self.earned(_account)\n",
        "            self.userRewardPerTokenPaid[_account] = self.rewardPerTokenStored\n",
        "    \n",
        "    def rewardPerToken(self):\n",
        "        if self.totalSupply == 0:\n",
        "            return self.rewardPerTokenStored\n",
        "        else:\n",
        "            return self.rewardPerTokenStored + (self.rewardRate * (self.lastTimeRewardApplicable() - self.lastUpdateTime) * 1e18) / self.totalSupply\n",
        "\n",
        "    def earned(self, _account: str):\n",
        "        return ((self.balanceOf[_account] *\n",
        "                (self.rewardPerToken() - self.userRewardPerTokenPaid[_account])) / 1e18) + self.rewards[_account]\n",
        "\n",
        "    def getReward(self, to: str):\n",
        "        \"\"\"Gain reward token\"\"\"\n",
        "        self.updateReward(to)\n",
        "        reward = self.rewards[to]\n",
        "        if reward > 0:\n",
        "            self.rewards[to] = 0\n",
        "            # rewardsToken.transfer(to, reward)\n",
        "        \n",
        "        return reward\n",
        "\n",
        "    def notifyRewardAmount(self, _amount: int):\n",
        "        self.updateReward(\"address_0\")\n",
        "        if self.blockTimestamp() >= self.periodFinish:\n",
        "            self.rewardRate = _amount / self.duration\n",
        "        else:\n",
        "            remainingRewards = (self.periodFinish - self.blockTimestamp()) * self.rewardRate\n",
        "            self.rewardRate = (_amount + remainingRewards) / self.duration\n",
        "        \n",
        "\n",
        "        assert(self.rewardRate > 0, \"reward rate = 0\")\n",
        "\n",
        "        self.lastUpdateTime = self.blockTimestamp()\n",
        "        self.periodFinish = self.blockTimestamp() + self.duration\n",
        "        \n",
        "    \n",
        "    def lastTimeRewardApplicable(self):\n",
        "        return self.periodFinish if self.periodFinish <= self.blockTimestamp() else self.blockTimestamp()\n",
        "\n",
        "    def blockTimestamp(self):\n",
        "        \"\"\"Akin to `block.timestamp`\"\"\"\n",
        "        return calendar.timegm(time.gmtime())\n",
        "\n"
      ]
    },
    {
      "cell_type": "code",
      "source": [
        "# init\n",
        "pool = SimepleStakingRewards()\n",
        "\n",
        "print(\"init stake total amount\", pool.totalSupply)\n",
        "print(\"init stake rewardRate\", pool.rewardRate)"
      ],
      "metadata": {
        "id": "7VwiPqsv6LdB",
        "outputId": "1c7439bc-9fcb-4616-ec37-9eb7bc2ed66c",
        "colab": {
          "base_uri": "https://localhost:8080/"
        }
      },
      "execution_count": 23,
      "outputs": [
        {
          "output_type": "stream",
          "name": "stdout",
          "text": [
            "init stake total amount 0\n",
            "init stake rewardRate 0\n"
          ]
        }
      ]
    },
    {
      "cell_type": "code",
      "source": [
        "# add new rewards\n",
        "rewards = 10e18\n",
        "\n",
        "pool.notifyRewardAmount(rewards)\n",
        "\n",
        "print(\"current total amount\", pool.totalSupply)\n",
        "print(\"current rewardRate\", pool.rewardRate)\n",
        "print(\"current periodFinish\", pool.periodFinish)\n",
        "print(\"current lastUpdateTime\", pool.lastUpdateTime)\n",
        "print(\"current rewardPerTokenStored\", pool.rewardPerTokenStored)"
      ],
      "metadata": {
        "id": "piW8M-jJ6thk",
        "outputId": "e5d93b0c-21a8-4e90-dcd6-5a96fd8204b4",
        "colab": {
          "base_uri": "https://localhost:8080/"
        }
      },
      "execution_count": 24,
      "outputs": [
        {
          "output_type": "stream",
          "name": "stdout",
          "text": [
            "current total amount 0\n",
            "current rewardRate 115740740740740.73\n",
            "current periodFinish 1675324631\n",
            "current lastUpdateTime 1675238231\n",
            "current rewardPerTokenStored 0\n"
          ]
        }
      ]
    },
    {
      "cell_type": "code",
      "source": [
        "# Alice staking\n",
        "\n",
        "alice = \"alice\"\n",
        "stakingAmount = 100e18\n",
        "\n",
        "pool.stake(alice, stakingAmount)\n",
        "\n",
        "print(\"current total amount\", pool.totalSupply)\n",
        "print(\"current rewardRate\", pool.rewardRate)\n",
        "print(\"current periodFinish\", pool.periodFinish)\n",
        "print(\"current lastUpdateTime\", pool.lastUpdateTime)\n",
        "\n",
        "print(\"current rewardPerTokenStored\", pool.rewardPerTokenStored)\n",
        "\n",
        "print(\"alice staked\", pool.balanceOf[alice])\n",
        "print(\"alice rewards\", pool.rewards[alice])\n",
        "print(\"alice userRewardPerTokenPaid\", pool.userRewardPerTokenPaid[alice])\n"
      ],
      "metadata": {
        "id": "F0dzyWUb7J-b",
        "outputId": "18420d22-bcb9-43a3-a5c2-929ce8a91ac4",
        "colab": {
          "base_uri": "https://localhost:8080/"
        }
      },
      "execution_count": 25,
      "outputs": [
        {
          "output_type": "stream",
          "name": "stdout",
          "text": [
            "current total amount 1e+20\n",
            "current rewardRate 115740740740740.73\n",
            "current periodFinish 1675324631\n",
            "current lastUpdateTime 1675238234\n",
            "current rewardPerTokenStored 0\n",
            "alice staked 1e+20\n",
            "alice rewards 0.0\n",
            "alice userRewardPerTokenPaid 0\n"
          ]
        }
      ]
    },
    {
      "cell_type": "code",
      "source": [
        "print(\"T1 query alice current earned\", pool.earned(alice))"
      ],
      "metadata": {
        "id": "LkkjNCrB8wFF",
        "outputId": "b148b7a2-3c55-45d3-8eae-66932d75bc76",
        "colab": {
          "base_uri": "https://localhost:8080/"
        }
      },
      "execution_count": 31,
      "outputs": [
        {
          "output_type": "stream",
          "name": "stdout",
          "text": [
            "T1 query alice current earned 1.3927469135802468e+16\n"
          ]
        }
      ]
    },
    {
      "cell_type": "code",
      "source": [
        "print(\"T2 query alice current earned\", pool.earned(alice))"
      ],
      "metadata": {
        "id": "YqezadUW-BX8",
        "outputId": "245a50a9-ae19-4da7-9d27-3ef392e15fac",
        "colab": {
          "base_uri": "https://localhost:8080/"
        }
      },
      "execution_count": 32,
      "outputs": [
        {
          "output_type": "stream",
          "name": "stdout",
          "text": [
            "T2 query alice current earned 1.404320987654321e+16\n"
          ]
        }
      ]
    },
    {
      "cell_type": "code",
      "source": [],
      "metadata": {
        "id": "fDV79VlK-6xs"
      },
      "execution_count": null,
      "outputs": []
    },
    {
      "cell_type": "code",
      "source": [
        "# Bob staking\n",
        "\n",
        "bob = \"bob\"\n",
        "stakingAmount = 200e18\n",
        "\n",
        "pool.stake(bob, stakingAmount)\n",
        "\n",
        "print(\"current total amount\", pool.totalSupply)\n",
        "print(\"current rewardRate\", pool.rewardRate)\n",
        "print(\"current periodFinish\", pool.periodFinish)\n",
        "print(\"current lastUpdateTime\", pool.lastUpdateTime)\n",
        "\n",
        "print(\"current rewardPerTokenStored\", pool.rewardPerTokenStored)\n",
        "\n",
        "print(\"bob staked\", pool.balanceOf[bob])\n",
        "print(\"bob rewards\", pool.rewards[bob])\n",
        "print(\"bob userRewardPerTokenPaid\", pool.userRewardPerTokenPaid[bob])"
      ],
      "metadata": {
        "id": "SrOUgkZD--iE",
        "outputId": "b2dd29e8-d739-40e1-8d2b-d5f9b65f0d21",
        "colab": {
          "base_uri": "https://localhost:8080/"
        }
      },
      "execution_count": 29,
      "outputs": [
        {
          "output_type": "stream",
          "name": "stdout",
          "text": [
            "current total amount 3e+20\n",
            "current rewardRate 115740740740740.73\n",
            "current periodFinish 1675324631\n",
            "current lastUpdateTime 1675238344\n",
            "current rewardPerTokenStored 127314814814814.81\n",
            "bob staked 2e+20\n",
            "bob rewards 0.0\n",
            "bob userRewardPerTokenPaid 127314814814814.81\n"
          ]
        }
      ]
    },
    {
      "cell_type": "code",
      "source": [
        "print(\"T1 query bob current earned\", pool.earned(bob))\n"
      ],
      "metadata": {
        "id": "-btT1E5A_IEx",
        "outputId": "e89eafe2-6239-4b26-e989-63a3d3684a87",
        "colab": {
          "base_uri": "https://localhost:8080/"
        }
      },
      "execution_count": 33,
      "outputs": [
        {
          "output_type": "stream",
          "name": "stdout",
          "text": [
            "T1 query bob current earned 2932098765432100.0\n"
          ]
        }
      ]
    },
    {
      "cell_type": "code",
      "source": [
        "print(\"T2 query bob current earned\", pool.earned(bob))\n"
      ],
      "metadata": {
        "id": "phP2D7F3_K4_",
        "outputId": "79e148b4-a0db-4b63-d7eb-1fe5c86db21d",
        "colab": {
          "base_uri": "https://localhost:8080/"
        }
      },
      "execution_count": 34,
      "outputs": [
        {
          "output_type": "stream",
          "name": "stdout",
          "text": [
            "T2 query bob current earned 3163580246913581.0\n"
          ]
        }
      ]
    },
    {
      "cell_type": "code",
      "source": [],
      "metadata": {
        "id": "7pnr7T-O_SQq"
      },
      "execution_count": null,
      "outputs": []
    },
    {
      "cell_type": "code",
      "source": [
        "# Bob staking again\n",
        "\n",
        "bob = \"bob\"\n",
        "stakingAmount = 100e18\n",
        "\n",
        "pool.stake(bob, stakingAmount)\n",
        "\n",
        "print(\"current total amount\", pool.totalSupply)\n",
        "print(\"current rewardRate\", pool.rewardRate)\n",
        "print(\"current periodFinish\", pool.periodFinish)\n",
        "print(\"current lastUpdateTime\", pool.lastUpdateTime)\n",
        "\n",
        "print(\"current rewardPerTokenStored\", pool.rewardPerTokenStored)\n",
        "\n",
        "print(\"bob staked\", pool.balanceOf[bob])\n",
        "print(\"bob rewards\", pool.rewards[bob])\n",
        "print(\"bob userRewardPerTokenPaid\", pool.userRewardPerTokenPaid[bob])"
      ],
      "metadata": {
        "id": "tKZKJyre_UYO",
        "outputId": "1e331547-5b7a-40aa-a612-60b7e8c956df",
        "colab": {
          "base_uri": "https://localhost:8080/"
        }
      },
      "execution_count": 35,
      "outputs": [
        {
          "output_type": "stream",
          "name": "stdout",
          "text": [
            "current total amount 4e+20\n",
            "current rewardRate 115740740740740.73\n",
            "current periodFinish 1675324631\n",
            "current lastUpdateTime 1675238449\n",
            "current rewardPerTokenStored 167824074074074.06\n",
            "bob staked 3e+20\n",
            "bob rewards 8101851851851850.0\n",
            "bob userRewardPerTokenPaid 167824074074074.06\n"
          ]
        }
      ]
    },
    {
      "cell_type": "code",
      "source": [
        "print(\"T3 query bob current earned\", pool.earned(bob))\n"
      ],
      "metadata": {
        "id": "Qul5cDkj_h6q",
        "outputId": "e3ad298c-82d6-4312-b43b-fe59895ccfa6",
        "colab": {
          "base_uri": "https://localhost:8080/"
        }
      },
      "execution_count": 36,
      "outputs": [
        {
          "output_type": "stream",
          "name": "stdout",
          "text": [
            "T3 query bob current earned 9577546296296290.0\n"
          ]
        }
      ]
    },
    {
      "cell_type": "code",
      "source": [
        "print(\"T4 query bob current earned\", pool.earned(bob))\n"
      ],
      "metadata": {
        "id": "7Nsio5xL_lI3",
        "outputId": "5a1c9c29-16d3-4da0-8a58-5d2a6ad5b6ef",
        "colab": {
          "base_uri": "https://localhost:8080/"
        }
      },
      "execution_count": 37,
      "outputs": [
        {
          "output_type": "stream",
          "name": "stdout",
          "text": [
            "T4 query bob current earned 9837962962962960.0\n"
          ]
        }
      ]
    },
    {
      "cell_type": "code",
      "source": [],
      "metadata": {
        "id": "ZRt5i-W-_msF"
      },
      "execution_count": null,
      "outputs": []
    },
    {
      "cell_type": "code",
      "source": [
        "# alice withdraw and getReward\n",
        "\n",
        "unstakingAmount = 50e18\n",
        "unstakedAmount = pool.withdraw(alice, unstakingAmount)\n",
        "\n",
        "print('alice unstaked amount', unstakedAmount)\n",
        "\n",
        "print(\"current total amount\", pool.totalSupply)\n",
        "print(\"current rewardRate\", pool.rewardRate)\n",
        "print(\"current periodFinish\", pool.periodFinish)\n",
        "print(\"current lastUpdateTime\", pool.lastUpdateTime)\n",
        "\n",
        "print(\"current rewardPerTokenStored\", pool.rewardPerTokenStored)"
      ],
      "metadata": {
        "id": "cifvCWaX_ntM",
        "outputId": "b3e3099d-f982-47a6-f0cf-1f3232123eba",
        "colab": {
          "base_uri": "https://localhost:8080/"
        }
      },
      "execution_count": 39,
      "outputs": [
        {
          "output_type": "stream",
          "name": "stdout",
          "text": [
            "alice unstaked amount 5e+19\n",
            "current total amount 3.5e+20\n",
            "current rewardRate 115740740740740.73\n",
            "current periodFinish 1675324631\n",
            "current lastUpdateTime 1675238780\n",
            "current rewardPerTokenStored 263599537037037.03\n"
          ]
        }
      ]
    },
    {
      "cell_type": "code",
      "source": [
        "print(\"alice staked\", pool.balanceOf[alice])\n",
        "print(\"alice rewards\", pool.rewards[alice])\n",
        "print(\"alice userRewardPerTokenPaid\", pool.userRewardPerTokenPaid[alice])\n",
        "\n",
        "print(\"Tn query alice current earned\", pool.earned(alice))"
      ],
      "metadata": {
        "id": "Qh4SNYYSAnaO",
        "outputId": "c810357b-bfeb-4406-86a4-a63cd61b5341",
        "colab": {
          "base_uri": "https://localhost:8080/"
        }
      },
      "execution_count": 40,
      "outputs": [
        {
          "output_type": "stream",
          "name": "stdout",
          "text": [
            "alice staked 5e+19\n",
            "alice rewards 2.6359953703703704e+16\n",
            "alice userRewardPerTokenPaid 263599537037037.03\n",
            "Tn query alice current earned 2.688905423280423e+16\n"
          ]
        }
      ]
    },
    {
      "cell_type": "code",
      "source": [
        "# alice getReward\n",
        "\n",
        "aliceRewards = pool.getReward(alice)\n",
        "\n",
        "print('alice getReward amount', aliceRewards)\n"
      ],
      "metadata": {
        "id": "SUZYR20SA6hd",
        "outputId": "5699d1ec-181b-4422-87e2-abb7bfa4fb45",
        "colab": {
          "base_uri": "https://localhost:8080/"
        }
      },
      "execution_count": 41,
      "outputs": [
        {
          "output_type": "stream",
          "name": "stdout",
          "text": [
            "alice getReward amount 2.8410218253968256e+16\n"
          ]
        }
      ]
    },
    {
      "cell_type": "code",
      "source": [
        "print(\"current total amount\", pool.totalSupply)\n",
        "print(\"current rewardRate\", pool.rewardRate)\n",
        "print(\"current periodFinish\", pool.periodFinish)\n",
        "print(\"current lastUpdateTime\", pool.lastUpdateTime)\n",
        "\n",
        "print(\"alice staked\", pool.balanceOf[alice])\n",
        "print(\"alice rewards\", pool.rewards[alice])\n",
        "print(\"alice userRewardPerTokenPaid\", pool.userRewardPerTokenPaid[alice])\n",
        "\n",
        "print(\"Tn query alice current earned\", pool.earned(alice))"
      ],
      "metadata": {
        "id": "m6hTUgXiBQ44",
        "outputId": "1912485c-2659-49c8-800a-b4f1a2c2445d",
        "colab": {
          "base_uri": "https://localhost:8080/"
        }
      },
      "execution_count": 42,
      "outputs": [
        {
          "output_type": "stream",
          "name": "stdout",
          "text": [
            "current total amount 3.5e+20\n",
            "current rewardRate 115740740740740.73\n",
            "current periodFinish 1675324631\n",
            "current lastUpdateTime 1675238904\n",
            "alice staked 5e+19\n",
            "alice rewards 0\n",
            "alice userRewardPerTokenPaid 304604828042328.06\n",
            "Tn query alice current earned 82671957671956.25\n"
          ]
        }
      ]
    },
    {
      "cell_type": "code",
      "source": [],
      "metadata": {
        "id": "F-mvZh85BSRe"
      },
      "execution_count": null,
      "outputs": []
    }
  ],
  "metadata": {
    "kernelspec": {
      "display_name": "Python 3",
      "language": "python",
      "name": "python3"
    },
    "language_info": {
      "codemirror_mode": {
        "name": "ipython",
        "version": 3
      },
      "file_extension": ".py",
      "mimetype": "text/x-python",
      "name": "python",
      "nbconvert_exporter": "python",
      "pygments_lexer": "ipython3",
      "version": "3.10.4"
    },
    "orig_nbformat": 4,
    "vscode": {
      "interpreter": {
        "hash": "3ad933181bd8a04b432d3370b9dc3b0662ad032c4dfaa4e4f1596c548f763858"
      }
    },
    "colab": {
      "provenance": [],
      "include_colab_link": true
    }
  },
  "nbformat": 4,
  "nbformat_minor": 0
}