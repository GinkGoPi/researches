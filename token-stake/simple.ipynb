{
 "cells": [
  {
   "attachments": {},
   "cell_type": "markdown",
   "metadata": {},
   "source": [
    "# Simeple about token staking and reward"
   ]
  },
  {
   "attachments": {},
   "cell_type": "markdown",
   "metadata": {},
   "source": [
    "> 模拟简单模型的staking和reward的逻辑和计算"
   ]
  },
  {
   "cell_type": "code",
   "execution_count": 1,
   "metadata": {},
   "outputs": [],
   "source": [
    "import calendar\n",
    "import time"
   ]
  },
  {
   "cell_type": "code",
   "execution_count": 3,
   "metadata": {},
   "outputs": [
    {
     "data": {
      "text/plain": [
       "1675223848"
      ]
     },
     "execution_count": 3,
     "metadata": {},
     "output_type": "execute_result"
    }
   ],
   "source": [
    "calendar.timegm(time.gmtime())"
   ]
  },
  {
   "cell_type": "code",
   "execution_count": null,
   "metadata": {},
   "outputs": [],
   "source": [
    "class SimepleStakingRewards(object):\n",
    "    \n",
    "    def __init__(self) -> None:\n",
    "        self.stakingToken = 'stakingToken'\n",
    "        self.rewardsToken = 'rewardsToken'\n",
    "\n",
    "        self.finishAt = 0\n",
    "        self.updatedAt = 0\n",
    "        self.duration = 1 * 60*60*24 # seconds\n",
    "\n",
    "        self.rewardRate = 0\n",
    "        self.rewardPerTokenStored = 0\n",
    "\n",
    "        self.userRewardPerTokenPaid = {'address': 0}\n",
    "        self.rewards = {'address': 0}\n",
    "\n",
    "        self.totalSupply = 0\n",
    "        self.balanceOf = {'address': 0}\n",
    "    \n",
    "    def stake(self, address: str, amount: int):\n",
    "        self.updateReward(address)\n",
    "        self.balanceOf[address] += amount\n",
    "        self.totalSupply += amount\n",
    "\n",
    "    def updateReward(self, _account: str):\n",
    "        rewardPerTokenStored = self.rewardPerToken()\n",
    "        updatedAt = self.lastTimeRewardApplicable()\n",
    "\n",
    "        if _account != \"address_0\":\n",
    "            self.rewards[_account] = self.earned(_account)\n",
    "            self.userRewardPerTokenPaid[_account] = rewardPerTokenStored\n",
    "    \n",
    "    def withdraw(self, to: str, amount: int):\n",
    "        self.balanceOf[to] -= amount\n",
    "        self.totalSupply -= amount\n",
    "        return amount\n",
    "    \n",
    "    def earn(self, _account: str):\n",
    "        return ((self.balanceOf[_account] *\n",
    "                (self.rewardPerToken() - self.userRewardPerTokenPaid[_account])) / 1e18) + self.rewards[_account]\n",
    "\n",
    "    def getReward(self, to: str):\n",
    "        self.updateReward(to)\n",
    "        reward = self.rewards[to]\n",
    "        if reward > 0:\n",
    "            self.rewards[to] = 0\n",
    "            # rewardsToken.transfer(to, reward)\n",
    "        \n",
    "        return reward\n",
    "\n",
    "    def rewardPerToken(self):\n",
    "        if self.totalSupply == 0:\n",
    "            return self.rewardPerTokenStored\n",
    "        else:\n",
    "            return self.rewardPerTokenStored + (self.rewardRate * (self.lastTimeRewardApplicable() - self.updatedAt) * 1e18) / self.totalSupply\n",
    "\n",
    "    def notifyRewardAmount(self, _amount: int):\n",
    "        self.updateReward(\"address_0\")\n",
    "        if self.blockTimestamp() >= self.finishAt:\n",
    "            self.rewardRate = _amount / self.duration\n",
    "        else:\n",
    "            remainingRewards = (self.finishAt - self.blockTimestamp()) * self.rewardRate\n",
    "            self.rewardRate = (_amount + remainingRewards) / self.duration\n",
    "        \n",
    "\n",
    "        assert(self.rewardRate > 0, \"reward rate = 0\")\n",
    "\n",
    "        self.finishAt = self.blockTimestamp() + self.duration\n",
    "        self.updatedAt = self.blockTimestamp()\n",
    "    \n",
    "    def lastTimeRewardApplicable(self):\n",
    "        return self.finishAt if self.finishAt > self.blockTimestamp() else self.blockTimestamp()\n",
    "\n",
    "    def blockTimestamp(self):\n",
    "        \"\"\"Akin to `block.timestamp`\"\"\"\n",
    "        return calendar.timegm(time.gmtime())\n",
    "\n"
   ]
  }
 ],
 "metadata": {
  "kernelspec": {
   "display_name": "Python 3",
   "language": "python",
   "name": "python3"
  },
  "language_info": {
   "codemirror_mode": {
    "name": "ipython",
    "version": 3
   },
   "file_extension": ".py",
   "mimetype": "text/x-python",
   "name": "python",
   "nbconvert_exporter": "python",
   "pygments_lexer": "ipython3",
   "version": "3.10.4"
  },
  "orig_nbformat": 4,
  "vscode": {
   "interpreter": {
    "hash": "3ad933181bd8a04b432d3370b9dc3b0662ad032c4dfaa4e4f1596c548f763858"
   }
  }
 },
 "nbformat": 4,
 "nbformat_minor": 2
}
