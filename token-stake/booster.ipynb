{
  "nbformat": 4,
  "nbformat_minor": 0,
  "metadata": {
    "colab": {
      "provenance": [],
      "authorship_tag": "ABX9TyO37BQayAPjQIOAhSf/+iEg",
      "include_colab_link": true
    },
    "kernelspec": {
      "name": "python3",
      "display_name": "Python 3"
    },
    "language_info": {
      "name": "python"
    }
  },
  "cells": [
    {
      "cell_type": "markdown",
      "metadata": {
        "id": "view-in-github",
        "colab_type": "text"
      },
      "source": [
        "<a href=\"https://colab.research.google.com/github/GinkGoPi/researches/blob/main/token-stake/booster.ipynb\" target=\"_parent\"><img src=\"https://colab.research.google.com/assets/colab-badge.svg\" alt=\"Open In Colab\"/></a>"
      ]
    },
    {
      "cell_type": "markdown",
      "source": [
        "# Staking with lock to booster"
      ],
      "metadata": {
        "id": "VtVZ5oPAULQn"
      }
    },
    {
      "cell_type": "markdown",
      "source": [
        "通过质押token并且锁仓一定时间，可以获取boost的收益\n",
        "\n",
        "奖励部分的逻辑与`SimepleStakingRewards`一致，只是其中用户质押的数据需要按照`BoostPool`中的**份额**来替代计算\n",
        "\n",
        "核心的问题：\n",
        "- 质押的数量转换成份额数\n",
        "- **Lock**周期带来的Boost收益系数\n"
      ],
      "metadata": {
        "id": "miu6AINB-1L3"
      }
    },
    {
      "cell_type": "code",
      "execution_count": 33,
      "metadata": {
        "id": "7iUsnT_ZUH3r"
      },
      "outputs": [],
      "source": [
        "import calendar\n",
        "import time\n",
        "import datetime\n",
        "from datetime import datetime\n",
        "from datetime import timedelta"
      ]
    },
    {
      "cell_type": "code",
      "source": [
        "calendar.timegm(time.gmtime())"
      ],
      "metadata": {
        "colab": {
          "base_uri": "https://localhost:8080/"
        },
        "id": "FaKNMtxjUXHE",
        "outputId": "038da1f7-c18a-4b4c-88e7-77a05a76e2b9"
      },
      "execution_count": 2,
      "outputs": [
        {
          "output_type": "execute_result",
          "data": {
            "text/plain": [
              "1675305783"
            ]
          },
          "metadata": {},
          "execution_count": 2
        }
      ]
    },
    {
      "cell_type": "code",
      "source": [
        "class StakingRewards(object):\n",
        "    \n",
        "    def __init__(self) -> None:\n",
        "        self.stakingToken = 'stakingToken'\n",
        "        self.rewardsToken = 'rewardsToken'\n",
        "\n",
        "        self.periodFinish = 0\n",
        "        self.lastUpdateTime = 0\n",
        "        self.duration = 1 * 60*60*24 # seconds\n",
        "\n",
        "        self.rewardRate = 0\n",
        "        self.rewardPerTokenStored = 0\n",
        "\n",
        "        self.userRewardPerTokenPaid = {'boostPool': 0, 'alice': 0, 'bob': 0, 'kite': 0}\n",
        "        self.rewards = {'boostPool': 0, 'alice': 0, 'bob': 0, 'kite': 0}\n",
        "\n",
        "        # Note: this data will be from `BoostPool`\n",
        "        # self.totalSupply = 0\n",
        "        # self.balanceOf = {'boostPool': 0, 'alice': 0, 'bob': 0, 'kite': 0}\n",
        "    \n",
        "    # def stake(self, address: str, amount: int):\n",
        "    #     self.updateReward(address)\n",
        "    #     self.balanceOf[address] += amount\n",
        "    #     self.totalSupply += amount\n",
        "    \n",
        "    # def withdraw(self, to: str, amount: int):\n",
        "    #     self.updateReward(to)\n",
        "    #     self.balanceOf[to] -= amount\n",
        "    #     self.totalSupply -= amount\n",
        "    #     return amount\n",
        "      \n",
        "    def updateReward(self, _account: str):\n",
        "        self.rewardPerTokenStored = self.rewardPerToken()\n",
        "        self.lastUpdateTime = self.lastTimeRewardApplicable()\n",
        "\n",
        "        if _account != \"address_0\":\n",
        "            self.rewards[_account] = self.earned(_account)\n",
        "            self.userRewardPerTokenPaid[_account] = self.rewardPerTokenStored\n",
        "    \n",
        "    def rewardPerToken(self):\n",
        "        if self.totalSupply == 0:\n",
        "            return self.rewardPerTokenStored\n",
        "        else:\n",
        "            return self.rewardPerTokenStored + (self.rewardRate * (self.lastTimeRewardApplicable() - self.lastUpdateTime) * 1e18) / self.totalSupply\n",
        "\n",
        "    def earned(self, _account: str):\n",
        "        return ((self.balanceOf[_account] *\n",
        "                (self.rewardPerToken() - self.userRewardPerTokenPaid[_account])) / 1e18) + self.rewards[_account]\n",
        "\n",
        "    def getReward(self, to: str):\n",
        "        \"\"\"Gain reward token\"\"\"\n",
        "        self.updateReward(to)\n",
        "        reward = self.rewards[to]\n",
        "        if reward > 0:\n",
        "            self.rewards[to] = 0\n",
        "            # rewardsToken.transfer(to, reward)\n",
        "        \n",
        "        return reward\n",
        "\n",
        "    def notifyRewardAmount(self, _amount: int):\n",
        "        self.updateReward(\"address_0\")\n",
        "        if self.blockTimestamp() >= self.periodFinish:\n",
        "            self.rewardRate = _amount / self.duration\n",
        "        else:\n",
        "            remainingRewards = (self.periodFinish - self.blockTimestamp()) * self.rewardRate\n",
        "            self.rewardRate = (_amount + remainingRewards) / self.duration\n",
        "        \n",
        "\n",
        "        assert(self.rewardRate > 0, \"reward rate = 0\")\n",
        "\n",
        "        self.lastUpdateTime = self.blockTimestamp()\n",
        "        self.periodFinish = self.blockTimestamp() + self.duration\n",
        "        \n",
        "    \n",
        "    def lastTimeRewardApplicable(self):\n",
        "        return self.periodFinish if self.periodFinish <= self.blockTimestamp() else self.blockTimestamp()\n",
        "\n",
        "    def blockTimestamp(self):\n",
        "        \"\"\"Akin to `block.timestamp`\"\"\"\n",
        "        return calendar.timegm(time.gmtime())"
      ],
      "metadata": {
        "colab": {
          "base_uri": "https://localhost:8080/"
        },
        "id": "oGKJ059BUZdS",
        "outputId": "dba660f5-faa0-40b2-f52f-7c2f247d9a7a"
      },
      "execution_count": 49,
      "outputs": [
        {
          "output_type": "stream",
          "name": "stderr",
          "text": [
            "<>:69: SyntaxWarning: assertion is always true, perhaps remove parentheses?\n",
            "<>:69: SyntaxWarning: assertion is always true, perhaps remove parentheses?\n",
            "<ipython-input-49-c96011e66ff7>:69: SyntaxWarning: assertion is always true, perhaps remove parentheses?\n",
            "  assert(self.rewardRate > 0, \"reward rate = 0\")\n"
          ]
        }
      ]
    },
    {
      "cell_type": "code",
      "source": [
        "class UserInfo(object):\n",
        "    def __init__(self, \n",
        "        shares=0, \n",
        "        lastDepositedTime=0, \n",
        "        tokenAtLastUserAction=0, \n",
        "        lastUserActionTime=0,\n",
        "        lockStartTime=0,\n",
        "        lockEndTime=0,\n",
        "        userBoostedShare=0,\n",
        "        locked=False,\n",
        "        lockedAmount=0):\n",
        "      self.shares = shares\n",
        "      self.lastDepositedTime = lastDepositedTime\n",
        "      self.tokenAtLastUserAction = tokenAtLastUserAction\n",
        "      self.lastUserActionTime = lastUserActionTime\n",
        "      self.lockStartTime = lockStartTime\n",
        "      self.lockEndTime = lockEndTime\n",
        "      self.userBoostedShare = 0\n",
        "      self.locked = locked\n",
        "      self.lockedAmount = lockedAmount\n",
        "    \n",
        "    def getAll(self):\n",
        "      return {\n",
        "          \"shares\": self.shares,\n",
        "          \"lastDepositedTime\": self.lastDepositedTime,\n",
        "          \"tokenAtLastUserAction\": self.tokenAtLastUserAction,\n",
        "          \"lastUserActionTime\": self.lastUserActionTime,\n",
        "          \"lockStartTime\": self.lockStartTime,\n",
        "          \"lockEndTime\": self.lockEndTime,\n",
        "          \"userBoostedShare\": self.userBoostedShare,\n",
        "          \"locked\": self.locked,\n",
        "          \"lockedAmount\": self.lockedAmount\n",
        "      }\n",
        "\n",
        "\n",
        "MAX_PERFORMANCE_FEE = 2000 # 20%\n",
        "MAX_WITHDRAW_FEE = 500 # 5%\n",
        "MAX_OVERDUE_FEE = 100 * 1e10 # 100%\n",
        "MAX_WITHDRAW_FEE_PERIOD = 7 *60*60*24 # 1 week\n",
        "# MIN_LOCK_DURATION = 7 *60*60*24\n",
        "MIN_LOCK_DURATION = 3 *60\n",
        "MAX_LOCK_DURATION_LIMIT = 1000 * 60*60*24\n",
        "BOOST_WEIGHT_LIMIT = 5000 * 1e10\n",
        "PRECISION_FACTOR = 1e12\n",
        "PRECISION_FACTOR_SHARE = 1e28;\n",
        "MIN_DEPOSIT_AMOUNT = 0.00001 *1e18\n",
        "MIN_WITHDRAW_AMOUNT = 0.00001 *1e18\n",
        "\n",
        "MAX_LOCK_DURATION = 365 *60*60*24\n",
        "DURATION_FACTOR = 365 *60*60*24\n",
        "BOOST_WEIGHT = 100 * 1e10\n",
        "\n",
        "# UNLOCK_FREE_DURATION = 7 *60*60*24\n",
        "UNLOCK_FREE_DURATION = 3 *60\n",
        "DURATION_FACTOR_OVERDUE = 180 *60*60*24\n",
        "\n",
        "performanceFee = 200  # 2%\n",
        "performanceFeeContract = 200  # 2%\n",
        "withdrawFee = 10 # 0.1%\n",
        "withdrawFeeContract = 10  # 0.1%\n",
        "overdueFee = 100 * 1e10   # 100%\n",
        "withdrawFeePeriod = 72 *60*60  # 3 days\n",
        "\n",
        "\n",
        "class BoostPool(object):\n",
        "\n",
        "    def __init__(self, rewardDistributor: StakingRewards) -> None:\n",
        "        self.address = 'boostPool'\n",
        "        self.balanceOfToken = 0\n",
        "\n",
        "        self.userInfo = {\"address_0\": UserInfo(), \"alice\": UserInfo(), \"bob\": UserInfo(), \"kite\": UserInfo()}\n",
        "\n",
        "        self.rewardDistributor = rewardDistributor\n",
        "        self.totalShares = 0\n",
        "        self.totalBoostDebt = 0\n",
        "        self.totalLockedAmount = 0\n",
        "\n",
        "        self.harvestRewards = 0\n",
        "      \n",
        "    def deposit(self, amount, lockDuration, to):\n",
        "        user = self.userInfo[to]\n",
        "        totalLockDuration = lockDuration\n",
        "        if user.lockEndTime >= self.blockTimestamp():\n",
        "            if amount > 0:\n",
        "                user.lockStartTime = self.blockTimestamp()\n",
        "                self.totalLockedAmount -= user.lockedAmount\n",
        "                user.lockedAmount = 0\n",
        "            totalLockDuration += user.lockEndTime - user.lockStartTime\n",
        "        assert lockDuration == 0 or totalLockDuration >= MIN_LOCK_DURATION, \"Minimum lock period is one week\"\n",
        "        assert totalLockDuration <= MAX_LOCK_DURATION, \"Maximum lock period exceeded\"\n",
        "\n",
        "        self._harvest()\n",
        "\n",
        "        # if self.totalShares == 0:\n",
        "        #     stockAmount = self.available()\n",
        "        \n",
        "        self._updateUserShare(to)\n",
        "\n",
        "        if lockDuration > 0:\n",
        "            if user.lockEndTime < self.blockTimestamp():\n",
        "                user.lockStartTime = self.blockTimestamp()\n",
        "                user.lockEndTime = self.blockTimestamp() + lockDuration\n",
        "            else:\n",
        "                user.lockEndTime += lockDuration\n",
        "            user.locked = True\n",
        "        \n",
        "        currentShares = 0\n",
        "        currentAmount = 0\n",
        "        userCurrentLockedBalance = 0\n",
        "        pool = self._balanceOf()\n",
        "        if amount > 0:\n",
        "            self.balanceOfToken += amount\n",
        "            currentAmount = amount\n",
        "        if user.shares > 0 and user.locked:\n",
        "            userCurrentLockedBalance = (pool * user.shares) / self.totalShares\n",
        "            currentAmount += userCurrentLockedBalance\n",
        "            self.totalShares += user.shares\n",
        "            user.shares = 0\n",
        "            if user.lockStartTime == self.blockTimestamp():\n",
        "                user.lockedAmount = userCurrentLockedBalance\n",
        "                self.totalLockedAmount + user.lockedAmount\n",
        "        if self.totalShares != 0:\n",
        "            currentShares = (currentAmount * self.totalShares) / (pool - userCurrentLockedBalance)\n",
        "        else:\n",
        "            currentShares = currentAmount\n",
        "        \n",
        "        extBoostWeightOfUser = 1\n",
        "\n",
        "        if user.lockEndTime > user.lockStartTime:\n",
        "            boostWeight = ((user.lockEndTime - user.lockStartTime) * BOOST_WEIGHT)/DURATION_FACTOR\n",
        "            boostShares = (boostWeight * currentShares)/PRECISION_FACTOR\n",
        "            currentShares += boostShares\n",
        "\n",
        "            extBoostShares = (extBoostWeightOfUser * currentShares) / PRECISION_FACTOR\n",
        "            currentShares += extBoostShares\n",
        "            user.shares += currentShares\n",
        "\n",
        "            userBoostedShare = currentAmount * ((boostWeight + extBoostWeightOfUser) * PRECISION_FACTOR + boostWeight * extBoostShares) / (PRECISION_FACTOR * PRECISION_FACTOR)\n",
        "            user.userBoostedShare += userBoostedShare\n",
        "            self.totalBoostDebt += userBoostedShare\n",
        "\n",
        "            user.lockedAmount += amount\n",
        "            self.totalLockedAmount += amount\n",
        "            print('==> lock', to, user.lockedAmount, user.shares)\n",
        "        else:\n",
        "            extBoostShares = (extBoostWeightOfUser * currentShares) / PRECISION_FACTOR\n",
        "            print(\"not locking, extBoostShares\", extBoostShares)\n",
        "            currentShares += extBoostShares\n",
        "            user.shares += currentShares\n",
        "            userBoostedShare = (extBoostWeightOfUser * currentAmount) / PRECISION_FACTOR\n",
        "            user.userBoostedShare += userBoostedShare\n",
        "            self.totalBoostDebt += userBoostedShare\n",
        "        \n",
        "        if amount > 0 or lockDuration > 0:\n",
        "            user.lastDepositedTime = self.blockTimestamp()\n",
        "          \n",
        "        self.totalShares += currentShares\n",
        "\n",
        "        user.tokenAtLastUserAction = (user.shares * self.balanceOfToken) / self.totalShares - user.userBoostedShare\n",
        "        user.lastUserActionTime = self.blockTimestamp()\n",
        "\n",
        "    def withdraw(self, shares, amount, to):\n",
        "        user = self.userInfo[to]\n",
        "        assert shares <= user.shares, \"Withdraw amount exceeds balance\"\n",
        "        assert user.lockEndTime < self.blockTimestamp(), \"Still in lock\"\n",
        "\n",
        "        currentShares = shares\n",
        "        sharesPercent = shares * PRECISION_FACTOR_SHARE / user.shares\n",
        "\n",
        "        self._harvest()\n",
        "\n",
        "        self._updateUserShare(to)\n",
        "\n",
        "        if shares == 0 and amount > 0:\n",
        "            pool = self._balanceOf()\n",
        "            currentShares = amount * self.totalShares / pool\n",
        "            if currentShares > user.shares:\n",
        "                currentShares = user.shares\n",
        "        else:\n",
        "            currentShares = sharesPercent * user.shares / PRECISION_FACTOR_SHARE\n",
        "        \n",
        "        outAmount = self._balanceOf() * user.shares / self.totalShares\n",
        "        self.balanceOfToken -= outAmount\n",
        "\n",
        "        user.shares -= currentShares\n",
        "        self.totalShares -= currentShares\n",
        "\n",
        "        if user.shares > 0:\n",
        "            currentAmount = self._balanceOf() * user.shares / self.totalShares\n",
        "            extBoostWeightOfUser = 1\n",
        "            extBoostShares = (extBoostWeightOfUser * user.shares) / PRECISION_FACTOR\n",
        "            user.shares += extBoostShares\n",
        "            self.totalShares += extBoostShares\n",
        "            userBoostedShare = (extBoostWeightOfUser * currentAmount) / PRECISION_FACTOR\n",
        "            user.userBoostedShare += userBoostedShare\n",
        "            self.totalBoostDebt += userBoostedShare\n",
        "            \n",
        "\n",
        "            user.tokenAtLastUserAction = user.shares * self._balanceOf() / self.totalShares - user.userBoostedShare\n",
        "        else:\n",
        "            user.tokenAtLastUserAction = 0\n",
        "        \n",
        "        user.lastUserActionTime = self.blockTimestamp()\n",
        "\n",
        "        return outAmount\n",
        "\n",
        "    def unlock(self, to):\n",
        "        user = self.userInfo[to]\n",
        "        assert user.locked == True, \"Not locked\"\n",
        "\n",
        "        self.deposit(0, 0, to)\n",
        "      \n",
        "    def _harvest(self):\n",
        "        self.harvestRewards += self.rewardDistributor.getReward(self.address)\n",
        "    \n",
        "    def _updateUserShare(self, to):\n",
        "        user = self.userInfo[to]\n",
        "        if user.shares > 0:\n",
        "            if user.userBoostedShare > 0:\n",
        "                currentAmount = (self.balanceOfToken * user.shares) / self.totalShares - user.userBoostedShare\n",
        "                self.totalBoostDebt -= user.userBoostedShare\n",
        "                user.userBoostedShare = 0\n",
        "                self.totalShares -= user.shares\n",
        "                \n",
        "                if user.locked and (user.lockEndTime + UNLOCK_FREE_DURATION) < self.blockTimestamp():\n",
        "                    earnAmount = currentAmount - user.lockedAmount\n",
        "                    overdueDuration = self.blockTimestamp() - user.lockEndTime - UNLOCK_FREE_DURATION\n",
        "                    if overdueDuration > DURATION_FACTOR_OVERDUE:\n",
        "                        overdueDuration = DURATION_FACTOR_OVERDUE\n",
        "                    \n",
        "                    overdueWeight = (overdueDuration * overdueFee) / DURATION_FACTOR_OVERDUE\n",
        "                    currentOverdueFee = (earnAmount * overdueWeight) / PRECISION_FACTOR\n",
        "                    # token.safeTransfer(treasury, currentOverdueFee)\n",
        "                    currentAmount -= currentOverdueFee\n",
        "\n",
        "                pool = self._balanceOf()\n",
        "                currentShares = 0\n",
        "                if self.totalShares != 0:\n",
        "                    currentShares = (currentAmount * self.totalShares) / (pool - currentAmount)\n",
        "                else:\n",
        "                    currentShares = currentAmount\n",
        "                user.shares = currentShares\n",
        "                self.totalShares += currentShares\n",
        "\n",
        "                if user.locked and user.lockEndTime < self.blockTimestamp():\n",
        "                    user.locked = False\n",
        "                    user.lockStartTime = 0\n",
        "                    user.lockEndTime = 0\n",
        "                    self.totalLockedAmount -= user.lockedAmount\n",
        "                    user.lockedAmount = 0\n",
        "                    print('==> unlock', to, currentAmount)\n",
        "    \n",
        "    def _balanceOf(self):\n",
        "        return self.balanceOfToken + self.totalBoostDebt\n",
        "        \n",
        "    \n",
        "    def blockTimestamp(self):\n",
        "        \"\"\"Akin to `block.timestamp`\"\"\"\n",
        "        return calendar.timegm(time.gmtime())\n",
        "    "
      ],
      "metadata": {
        "id": "KAoKnlSVUfhG"
      },
      "execution_count": 50,
      "outputs": []
    },
    {
      "cell_type": "markdown",
      "source": [
        "Init"
      ],
      "metadata": {
        "id": "BgVNLBAOFLSY"
      }
    },
    {
      "cell_type": "code",
      "source": [
        "rewardDistributor = StakingRewards()\n",
        "\n",
        "pool = BoostPool(rewardDistributor)"
      ],
      "metadata": {
        "id": "mZOSkKpdB3fM"
      },
      "execution_count": 51,
      "outputs": []
    },
    {
      "cell_type": "markdown",
      "source": [
        "### Staking without Lock"
      ],
      "metadata": {
        "id": "r4wdY1MCEOld"
      }
    },
    {
      "cell_type": "code",
      "source": [
        "# Alice staking\n",
        "\n",
        "alice = \"alice\"\n",
        "stakingAmount = 100e18\n",
        "\n",
        "pool.deposit(stakingAmount, 0, alice)\n",
        "\n",
        "print(\"user infos\", pool.userInfo[alice].getAll())\n",
        "\n",
        "print(\"pool balanceOfToken\", pool.balanceOfToken)\n",
        "print(\"pool totalShares\", pool.totalShares)\n",
        "print(\"pool totalBoostDebt\", pool.totalBoostDebt)\n",
        "print(\"pool totalLockedAmount\", pool.totalLockedAmount)\n",
        "print(\"pool harvestRewards\", pool.harvestRewards)"
      ],
      "metadata": {
        "id": "iKbgmMRxtv45",
        "colab": {
          "base_uri": "https://localhost:8080/"
        },
        "outputId": "9f40881e-7e9d-49a3-9d52-48248cc041cd"
      },
      "execution_count": 12,
      "outputs": [
        {
          "output_type": "stream",
          "name": "stdout",
          "text": [
            "not locking, extBoostShares 100000000.0\n",
            "user infos {'shares': 1.000000000001e+20, 'lastDepositedTime': 1675306759, 'tokenAtLastUserAction': 9.99999999999e+19, 'lastUserActionTime': 1675306759, 'lockStartTime': 0, 'lockEndTime': 0, 'userBoostedShare': 100000000.0, 'locked': False, 'lockedAmount': 0}\n",
            "pool balanceOfToken 1e+20\n",
            "pool totalShares 1.000000000001e+20\n",
            "pool totalBoostDebt 100000000.0\n",
            "pool totalLockedAmount 0\n",
            "pool harvestRewards 0.0\n"
          ]
        }
      ]
    },
    {
      "cell_type": "code",
      "source": [],
      "metadata": {
        "id": "Qrf8VCNJCzRz"
      },
      "execution_count": null,
      "outputs": []
    },
    {
      "cell_type": "code",
      "source": [
        "# Alice staking again\n",
        "\n",
        "stakingAmount2 = 50e18\n",
        "\n",
        "pool.deposit(stakingAmount2, 0, alice)\n",
        "\n",
        "print(\"T2 user infos\", pool.userInfo[alice].getAll())\n",
        "\n",
        "print(\"pool balanceOfToken\", pool.balanceOfToken)\n",
        "print(\"pool totalShares\", pool.totalShares)\n",
        "print(\"pool totalBoostDebt\", pool.totalBoostDebt)\n",
        "print(\"pool totalLockedAmount\", pool.totalLockedAmount)\n",
        "print(\"pool harvestRewards\", pool.harvestRewards)"
      ],
      "metadata": {
        "colab": {
          "base_uri": "https://localhost:8080/"
        },
        "id": "JeMWDZ0LDWwB",
        "outputId": "54f96f70-8899-4f0e-e6b9-0ea4d10a8d01"
      },
      "execution_count": 13,
      "outputs": [
        {
          "output_type": "stream",
          "name": "stdout",
          "text": [
            "not locking, extBoostShares 49999999.99995\n",
            "T2 user infos {'shares': 1.499999999999e+20, 'lastDepositedTime': 1675306763, 'tokenAtLastUserAction': 1.4999999999995e+20, 'lastUserActionTime': 1675306763, 'lockStartTime': 0, 'lockEndTime': 0, 'userBoostedShare': 50000000.0, 'locked': False, 'lockedAmount': 0}\n",
            "pool balanceOfToken 1.5e+20\n",
            "pool totalShares 1.499999999999e+20\n",
            "pool totalBoostDebt 50000000.0\n",
            "pool totalLockedAmount 0\n",
            "pool harvestRewards 0.0\n"
          ]
        }
      ]
    },
    {
      "cell_type": "code",
      "source": [
        "# Alice withdraw\n",
        "\n",
        "shares = 1.499999999999e+20\n",
        "\n",
        "outAmount = pool.withdraw(shares, 0, alice)\n",
        "print(\"withdraw token amount\", outAmount)\n",
        "print(\"after withdraw user infos\", pool.userInfo[alice].getAll())\n",
        "\n",
        "print(\"pool balanceOfToken\", pool.balanceOfToken)\n",
        "print(\"pool totalShares\", pool.totalShares)\n",
        "print(\"pool totalBoostDebt\", pool.totalBoostDebt)\n",
        "print(\"pool totalLockedAmount\", pool.totalLockedAmount)\n",
        "print(\"pool harvestRewards\", pool.harvestRewards)\n"
      ],
      "metadata": {
        "colab": {
          "base_uri": "https://localhost:8080/"
        },
        "id": "q1M9o3zYDfwt",
        "outputId": "35965089-ef00-4bed-9436-3ac95aaf7663"
      },
      "execution_count": 14,
      "outputs": [
        {
          "output_type": "stream",
          "name": "stdout",
          "text": [
            "withdraw token amount 1.5e+20\n",
            "after withdraw user infos {'shares': 0.0, 'lastDepositedTime': 1675306763, 'tokenAtLastUserAction': 0, 'lastUserActionTime': 1675306772, 'lockStartTime': 0, 'lockEndTime': 0, 'userBoostedShare': 0, 'locked': False, 'lockedAmount': 0}\n",
            "pool balanceOfToken 0.0\n",
            "pool totalShares 0.0\n",
            "pool totalBoostDebt 0.0\n",
            "pool totalLockedAmount 0\n",
            "pool harvestRewards 0.0\n"
          ]
        }
      ]
    },
    {
      "cell_type": "code",
      "source": [],
      "metadata": {
        "id": "OCd-PKcOD6nS"
      },
      "execution_count": null,
      "outputs": []
    },
    {
      "cell_type": "markdown",
      "source": [
        "### Staking with lock"
      ],
      "metadata": {
        "id": "1rgXbtGuEVVf"
      }
    },
    {
      "cell_type": "code",
      "source": [
        "# Alice staking\n",
        "\n",
        "alice = \"alice\"\n",
        "stakingAmount = 100e18\n",
        "\n",
        "pool.deposit(stakingAmount, MIN_LOCK_DURATION, alice)\n",
        "\n",
        "print(\"user infos\", pool.userInfo[alice].getAll())\n",
        "\n",
        "print(\"pool balanceOfToken\", pool.balanceOfToken)\n",
        "print(\"pool totalShares\", pool.totalShares)\n",
        "print(\"pool totalBoostDebt\", pool.totalBoostDebt)\n",
        "print(\"pool totalLockedAmount\", pool.totalLockedAmount)\n",
        "print(\"pool harvestRewards\", pool.harvestRewards)"
      ],
      "metadata": {
        "colab": {
          "base_uri": "https://localhost:8080/"
        },
        "id": "kGfipG9hEXpR",
        "outputId": "03d6f658-1ac8-4b23-c42e-71fbea9ae07b"
      },
      "execution_count": 38,
      "outputs": [
        {
          "output_type": "stream",
          "name": "stdout",
          "text": [
            "==> lock alice 1e+20 1.0000057077635572e+20\n",
            "user infos {'shares': 1.0000057077635572e+20, 'lastDepositedTime': 1675308224, 'tokenAtLastUserAction': 9.999942916656634e+19, 'lastUserActionTime': 1675308224, 'lockStartTime': 1675308224, 'lockEndTime': 1675308404, 'userBoostedShare': 570833433659118.9, 'locked': True, 'lockedAmount': 1e+20}\n",
            "pool balanceOfToken 1e+20\n",
            "pool totalShares 1.0000057077635572e+20\n",
            "pool totalBoostDebt 570833433659118.9\n",
            "pool totalLockedAmount 1e+20\n",
            "pool harvestRewards 0.0\n"
          ]
        }
      ]
    },
    {
      "cell_type": "code",
      "source": [
        "# after MIN_LOCK_DURATION to withdraw\n",
        "unlockMinDate = datetime.fromtimestamp(pool.userInfo[alice].getAll()['lastDepositedTime']) + timedelta(seconds=MIN_LOCK_DURATION)\n",
        "print(\"min unlock datetime\", unlockMinDate)\n",
        "\n",
        "shares = 1.0000057077635572e+20\n",
        "\n",
        "outAmount = pool.withdraw(shares, 0, alice)\n",
        "print(\"unlock and withdraw token amount\", outAmount)\n",
        "print(\"after withdraw user infos\", pool.userInfo[alice].getAll())\n",
        "\n",
        "print(\"pool balanceOfToken\", pool.balanceOfToken)\n",
        "print(\"pool totalShares\", pool.totalShares)\n",
        "print(\"pool totalBoostDebt\", pool.totalBoostDebt)\n",
        "print(\"pool totalLockedAmount\", pool.totalLockedAmount)\n",
        "print(\"pool harvestRewards\", pool.harvestRewards)\n",
        "\n"
      ],
      "metadata": {
        "colab": {
          "base_uri": "https://localhost:8080/"
        },
        "id": "SFQrYBbPFQPi",
        "outputId": "e086b082-fea7-4ae2-c80d-3ca3057c3f8c"
      },
      "execution_count": 48,
      "outputs": [
        {
          "output_type": "stream",
          "name": "stdout",
          "text": [
            "min unlock datetime 2023-02-02 03:26:44\n",
            "==> unlock alice 9.999942916656634e+19\n",
            "unlock and withdraw token amount 1e+20\n",
            "after withdraw user infos {'shares': 0.0, 'lastDepositedTime': 1675308224, 'tokenAtLastUserAction': 0, 'lastUserActionTime': 1675308411, 'lockStartTime': 0, 'lockEndTime': 0, 'userBoostedShare': 0, 'locked': False, 'lockedAmount': 0}\n",
            "pool balanceOfToken 0.0\n",
            "pool totalShares 0.0\n",
            "pool totalBoostDebt 0.0\n",
            "pool totalLockedAmount 0.0\n",
            "pool harvestRewards 0.0\n"
          ]
        }
      ]
    },
    {
      "cell_type": "code",
      "source": [
        "datetime.now()"
      ],
      "metadata": {
        "colab": {
          "base_uri": "https://localhost:8080/"
        },
        "id": "HVBTG9WTGRDK",
        "outputId": "90218db1-9a55-43a3-acf3-767871edbb49"
      },
      "execution_count": 47,
      "outputs": [
        {
          "output_type": "execute_result",
          "data": {
            "text/plain": [
              "datetime.datetime(2023, 2, 2, 3, 26, 46, 349463)"
            ]
          },
          "metadata": {},
          "execution_count": 47
        }
      ]
    },
    {
      "cell_type": "code",
      "source": [],
      "metadata": {
        "id": "C2KkDnQCIgvY"
      },
      "execution_count": null,
      "outputs": []
    }
  ]
}