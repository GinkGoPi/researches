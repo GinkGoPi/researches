{
 "cells": [
  {
   "attachments": {},
   "cell_type": "markdown",
   "metadata": {},
   "source": [
    "## About Profile 👤"
   ]
  },
  {
   "attachments": {},
   "cell_type": "markdown",
   "metadata": {},
   "source": [
    "Profile Struct Defined\n",
    "\n",
    "```\n",
    "/**\n",
    "* @notice A struct containing profile data.\n",
    "*\n",
    "* @param pubCount The number of publications made to this profile.\n",
    "* @param followModule The address of the current follow module in use by this profile, can be empty.\n",
    "* @param followNFT The address of the followNFT associated with this profile, can be empty..\n",
    "* @param handle The profile's associated handle.\n",
    "* @param imageURI The URI to be used for the profile's image.\n",
    "* @param followNFTURI The URI to be used for the follow NFT.\n",
    "*/\n",
    "struct ProfileStruct {\n",
    "    uint256 pubCount;\n",
    "    address followModule;\n",
    "    address followNFT;\n",
    "    string handle;\n",
    "    string imageURI;\n",
    "    string followNFTURI;\n",
    "}\n",
    "```"
   ]
  },
  {
   "attachments": {},
   "cell_type": "markdown",
   "metadata": {},
   "source": [
    "Create Profile Struct\n",
    "\n",
    "```\n",
    "/**\n",
    "* @notice A struct containing the parameters required for the `createProfile()` function.\n",
    "*\n",
    "* @param to The address receiving the profile.\n",
    "* @param handle The handle to set for the profile, must be unique and non-empty.\n",
    "* @param imageURI The URI to set for the profile image.\n",
    "* @param followModule The follow module to use, can be the zero address.\n",
    "* @param followModuleInitData The follow module initialization data, if any.\n",
    "* @param followNFTURI The URI to use for the follow NFT.\n",
    "*/\n",
    "struct CreateProfileData {\n",
    "    address to;\n",
    "    string handle;\n",
    "    string imageURI;\n",
    "    address followModule;\n",
    "    bytes followModuleInitData;\n",
    "    string followNFTURI;\n",
    "}\n",
    "```"
   ]
  },
  {
   "attachments": {},
   "cell_type": "markdown",
   "metadata": {},
   "source": [
    "Function createProfile In `LensHub`\n",
    "\n",
    "```\n",
    "function createProfile(DataTypes.CreateProfileData calldata vars)\n",
    "    external\n",
    "    override\n",
    "    whenNotPaused\n",
    "    returns (uint256)\n",
    "{\n",
    "    if (!_profileCreatorWhitelisted[msg.sender]) revert Errors.ProfileCreatorNotWhitelisted();\n",
    "    unchecked {\n",
    "        uint256 profileId = ++_profileCounter;\n",
    "        _mint(vars.to, profileId);\n",
    "        PublishingLogic.createProfile(\n",
    "            vars,\n",
    "            profileId,\n",
    "            _profileIdByHandleHash,\n",
    "            _profileById,\n",
    "            _followModuleWhitelisted\n",
    "        );\n",
    "        return profileId;\n",
    "    }\n",
    "}\n",
    "```"
   ]
  },
  {
   "attachments": {},
   "cell_type": "markdown",
   "metadata": {},
   "source": [
    "Function createProfile In `PublishingLogic`\n",
    "\n",
    "```\n",
    "function createProfile(\n",
    "        DataTypes.CreateProfileData calldata vars,\n",
    "        uint256 profileId,\n",
    "        mapping(bytes32 => uint256) storage _profileIdByHandleHash,\n",
    "        mapping(uint256 => DataTypes.ProfileStruct) storage _profileById,\n",
    "        mapping(address => bool) storage _followModuleWhitelisted\n",
    "    ) external;\n",
    "```"
   ]
  },
  {
   "attachments": {},
   "cell_type": "markdown",
   "metadata": {},
   "source": [
    "从上面的可以发现，`LensHub`是入口\n",
    "\n",
    "首先需要判断铸造Profile的地址在白名单中\n",
    "```\n",
    "mapping(address => bool) internal _profileCreatorWhitelisted;\n",
    "```\n",
    "\n",
    "其中profileId的生成是以合约计数自增(++)的方式，向`to`地址`mint`了指定profileId的NFT\n",
    "\n",
    "内部再通过其逻辑操作单元`PublishingLogic`中对应地方法进行profile的铸造,同时将具体的信息数据存储到`LensHubStorage`对应的变量中\n",
    "\n",
    "关于`ProfileStruct`的`pubCount`的表达的是该`profileId`发布操作的计数索引"
   ]
  },
  {
   "cell_type": "code",
   "execution_count": null,
   "metadata": {},
   "outputs": [],
   "source": []
  }
 ],
 "metadata": {
  "kernelspec": {
   "display_name": "Python 3",
   "language": "python",
   "name": "python3"
  },
  "language_info": {
   "codemirror_mode": {
    "name": "ipython",
    "version": 3
   },
   "file_extension": ".py",
   "mimetype": "text/x-python",
   "name": "python",
   "nbconvert_exporter": "python",
   "pygments_lexer": "ipython3",
   "version": "3.8.16 (default, Jan  6 2023, 15:21:54) \n[GCC 9.4.0]"
  },
  "orig_nbformat": 4,
  "vscode": {
   "interpreter": {
    "hash": "9ac03a0a6051494cc606d484d27d20fce22fb7b4d169f583271e11d5ba46a56e"
   }
  }
 },
 "nbformat": 4,
 "nbformat_minor": 2
}
