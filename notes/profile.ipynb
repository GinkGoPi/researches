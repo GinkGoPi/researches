{
 "cells": [
  {
   "attachments": {},
   "cell_type": "markdown",
   "metadata": {},
   "source": [
    "# Social Protocol\n",
    "\n",
    "Protocol想要表征social graph，就需要记录数据及关联关系，以最简单的理解:\n",
    "\n",
    "UID的所属操作\n",
    "| UID | Post | Comment  | Mirror |\n",
    "| ---- | ---- | ---- | ---- |\n",
    "| u1 | p1,p2 | u2-p1-c1,u2-p1-c2 | u5-p1,... |\n",
    "| u2 | p1,p2,... | u1-p2-c3,... | |\n",
    "\n",
    "与UID的交互操作\n",
    "| UID | Follow | Collect |\n",
    "| ---- | ---- | ---- |\n",
    "| u1 | u4,u5 | u4-p3,u5-p1,u2-p3,... |\n",
    "| u2 | u1 | u7-p1 |\n",
    "\n",
    "设想在contract中可使用数据结构来记录这个数据关系\n",
    "```\n",
    "struct ProfileStruct {\n",
    "    uint256 pubCount;\n",
    "    address followNFT;\n",
    "}\n",
    "\n",
    "struct PublicationStruct {\n",
    "    uint256 profileIdPointed;\n",
    "    uint256 pubIdPointed;\n",
    "    string contentURI;\n",
    "    address collectNFT;\n",
    "}\n",
    "\n",
    "// profile\n",
    "mapping(uint256 => address) internal _dispatcherByProfile;  // ProfileId属于who(address)\n",
    "mapping(uint256 => ProfileStruct) internal _profileById;    // ProfileId对应其属性，pubCount(发帖和评论的index)；followNFT(关注/订阅)\n",
    "// publish(post&comment) by profile\n",
    "mapping(uint256 => mapping(uint256 => PublicationStruct)) internal _pubByIdByProfile;  // ProfileId下，pubCount对应的(发帖或评论的详情)\n",
    "\n",
    "// follow 该如何构造数据结构？\n",
    "mapping(uint256 => uint256[]) internal _followsByProfile;  // Why not like this?_?\n",
    "// <== solidity的array不便删除指定位置；而且也不能很好的表征限制订阅的功能\n",
    "\n",
    "// 常见的设计App中**like**的功能是否需要在合约中实现？\n",
    "```"
   ]
  },
  {
   "cell_type": "markdown",
   "metadata": {},
   "source": []
  },
  {
   "attachments": {},
   "cell_type": "markdown",
   "metadata": {},
   "source": [
    "## What's the LenHub?\n",
    "\n",
    "外层`LenHub`主要是规划操作入口，具体的逻辑实现还是通过Library中的合约完成，其中主要包含了两个logic:\n",
    "- `PublishingLogic.sol`\n",
    "- `InteractionLogic.sol`\n",
    "\n",
    "其中`PublishingLogic.sol`中主要实现了`createProfile、createPost、createComment、createMirror`方法；`InteractionLogic.sol`中主要实现了`follow、collect`方法\n",
    "\n",
    "**从外部看来，Profile将对应一个LenHub的NFT；follow和collect也对应各自的NFT；但是Post、Comment、Mirror是没有形成NFT的**\n",
    "\n",
    "🤔️ 实现logic进行这样区分的作用是什么？\n",
    "> 按照LenHub合约中注释的理解，`follow、collect`操作是与profileId进行交互的方法，将其放在一个合约中\n",
    "\n",
    "🤔️ Follow和Collect使用了NFT，Publishing却不使用NFT？\n",
    "> 如果说Post、Comment、Mirror是与Profile深度绑定在一起的，没有单独mint NFT的需求\n",
    "> \n",
    "> 那么Follow和Collect使用NFT的好处是可以将其作为融入profile信息圈的一个条件，类似门票的作用，谁有这类NFT就能进入其空间\n",
    "> 在合约中Follow和Collect的逻辑差异是什么？"
   ]
  },
  {
   "attachments": {},
   "cell_type": "markdown",
   "metadata": {},
   "source": [
    "## How to defind Storage Struct?\n",
    "\n",
    "Lens Protocol定义的合约存储变量和结构体"
   ]
  },
  {
   "attachments": {},
   "cell_type": "markdown",
   "metadata": {},
   "source": [
    "### LenHub Storage Vars\n",
    "\n",
    "```\n",
    "// ProfileId => desc\n",
    "mapping(uint256 => DataTypes.ProfileStruct) internal _profileById;\n",
    "\n",
    "// PulishingIdx => ProfileId => desc-publication\n",
    "mapping(uint256 => mapping(uint256 => DataTypes.PublicationStruct)) internal _pubByIdByProfile;\n",
    "\n",
    "// 递增的profileId\n",
    "uint256 internal _profileCounter;\n",
    "\n",
    "// whitelisted\n",
    "```"
   ]
  },
  {
   "attachments": {},
   "cell_type": "markdown",
   "metadata": {},
   "source": [
    "### Struct Definded"
   ]
  },
  {
   "attachments": {},
   "cell_type": "markdown",
   "metadata": {},
   "source": [
    "#### Profile Struct\n",
    "\n",
    "```\n",
    "/**\n",
    "* @notice A struct containing profile data.\n",
    "*\n",
    "* @param pubCount The number of publications made to this profile.\n",
    "* @param followModule The address of the current follow module in use by this profile, can be empty.\n",
    "* @param followNFT The address of the followNFT associated with this profile, can be empty..\n",
    "* @param handle The profile's associated handle.\n",
    "* @param imageURI The URI to be used for the profile's image.\n",
    "* @param followNFTURI The URI to be used for the follow NFT.\n",
    "*/\n",
    "struct ProfileStruct {\n",
    "    uint256 pubCount;\n",
    "    address followModule;\n",
    "    address followNFT;\n",
    "    string handle;\n",
    "    string imageURI;\n",
    "    string followNFTURI;\n",
    "}\n",
    "```\n",
    "\n",
    "📌 表征了账号(profileId)对应的基础属性(handle,imageURI,followNFTURI),publising类型操作的索引(pubCount)\n",
    "followNFT合约地址是该ProfileId下被follow操作时，给follower mint一个的NFT；followModule合约地址进行限制功能？"
   ]
  },
  {
   "attachments": {},
   "cell_type": "markdown",
   "metadata": {},
   "source": [
    "#### Publication Struct\n",
    "\n",
    "```\n",
    "/**\n",
    "* @notice A struct containing data associated with each new publication.\n",
    "*\n",
    "* @param profileIdPointed The profile token ID this publication points to, for mirrors and comments.\n",
    "* @param pubIdPointed The publication ID this publication points to, for mirrors and comments.\n",
    "* @param contentURI The URI associated with this publication.\n",
    "* @param referenceModule The address of the current reference module in use by this profile, can be empty.\n",
    "* @param collectModule The address of the collect module associated with this publication, this exists for all publication.\n",
    "* @param collectNFT The address of the collectNFT associated with this publication, if any.\n",
    "*/\n",
    "struct PublicationStruct {\n",
    "    uint256 profileIdPointed;\n",
    "    uint256 pubIdPointed;\n",
    "    string contentURI;\n",
    "    address referenceModule;\n",
    "    address collectModule;\n",
    "    address collectNFT;\n",
    "}\n",
    "```\n",
    "\n",
    "📌 针对pub类型的操作(post,comment,mirror)在这个struct中的配合`profileIdPointed`,`pubIdPointed`和`contentURI`有不同的体现，eg：(0,0,uri) == 发的post; (1,2,uri) == comment; (2,3,'') == mirror"
   ]
  },
  {
   "attachments": {},
   "cell_type": "markdown",
   "metadata": {},
   "source": []
  },
  {
   "attachments": {},
   "cell_type": "markdown",
   "metadata": {},
   "source": [
    "## Profile Owner Functions\n",
    "\n",
    "> 核心包括`CreateProfile,CreatePost,CreateComment,CreateMirror`操作"
   ]
  },
  {
   "attachments": {},
   "cell_type": "markdown",
   "metadata": {},
   "source": [
    "#### Create Profile\n",
    "\n",
    "Function createProfile In `LensHub`\n",
    "\n",
    "```\n",
    "function createProfile(DataTypes.CreateProfileData calldata vars)\n",
    "    external\n",
    "    override\n",
    "    whenNotPaused\n",
    "    returns (uint256)\n",
    "{\n",
    "    if (!_profileCreatorWhitelisted[msg.sender]) revert Errors.ProfileCreatorNotWhitelisted();\n",
    "    unchecked {\n",
    "        uint256 profileId = ++_profileCounter;\n",
    "        _mint(vars.to, profileId);\n",
    "        PublishingLogic.createProfile(\n",
    "            vars,\n",
    "            profileId,\n",
    "            _profileIdByHandleHash,\n",
    "            _profileById,\n",
    "            _followModuleWhitelisted\n",
    "        );\n",
    "        return profileId;\n",
    "    }\n",
    "}\n",
    "```\n",
    "\n",
    "📌 给`to`地址mint了一个profile的NFT"
   ]
  },
  {
   "attachments": {},
   "cell_type": "markdown",
   "metadata": {},
   "source": [
    "createProfile核心逻辑实现在`PublishingLogic`\n",
    "\n",
    "```\n",
    "function createProfile(\n",
    "    DataTypes.CreateProfileData calldata vars,\n",
    "    uint256 profileId,\n",
    "    mapping(bytes32 => uint256) storage _profileIdByHandleHash,\n",
    "    mapping(uint256 => DataTypes.ProfileStruct) storage _profileById,\n",
    "    mapping(address => bool) storage _followModuleWhitelisted\n",
    ") external {\n",
    "    bytes32 handleHash = keccak256(bytes(vars.handle));\n",
    "\n",
    "    _profileIdByHandleHash[handleHash] = profileId;\n",
    "    _profileById[profileId].handle = vars.handle;\n",
    "    _profileById[profileId].imageURI = vars.imageURI;\n",
    "    _profileById[profileId].followNFTURI = vars.followNFTURI;\n",
    "\n",
    "    if (vars.followModule != address(0)) {\n",
    "        _profileById[profileId].followModule = vars.followModule;\n",
    "    }\n",
    "\n",
    "    bytes memory followModuleReturnData = _initFollowModule(\n",
    "        profileId,\n",
    "        vars.followModule,\n",
    "        vars.followModuleData,\n",
    "        _followModuleWhitelisted\n",
    "    );\n",
    "}\n",
    "```"
   ]
  },
  {
   "attachments": {},
   "cell_type": "markdown",
   "metadata": {},
   "source": [
    "从上面的可以发现，`LensHub`是入口\n",
    "\n",
    "首先需要判断铸造Profile的地址在白名单中\n",
    "```\n",
    "mapping(address => bool) internal _profileCreatorWhitelisted;\n",
    "```\n",
    "\n",
    "其中profileId的生成是以合约计数自增(++)的方式，向`to`地址`mint`了指定profileId的NFT\n",
    "\n",
    "内部再通过其逻辑操作单元`PublishingLogic`中对应地方法进行profile的铸造,同时将具体的信息数据存储到`LensHubStorage`对应的变量中\n",
    "\n",
    "关于`ProfileStruct`的`pubCount`的表达的是该`profileId`发布操作的计数索引"
   ]
  },
  {
   "cell_type": "markdown",
   "metadata": {},
   "source": []
  },
  {
   "attachments": {},
   "cell_type": "markdown",
   "metadata": {},
   "source": [
    "方法`createPost`的核心logic\n",
    "```\n",
    "uint256 pubId = ++_profileById[profileId].pubCount;\n",
    "\n",
    "_pubByIdByProfile[profileId][pubId].contentURI = contentURI;\n",
    "```\n",
    "\n"
   ]
  },
  {
   "attachments": {},
   "cell_type": "markdown",
   "metadata": {},
   "source": [
    "方法`createComment`的核心logic\n",
    "```\n",
    "uint256 pubId = _profileById[vars.profileId].pubCount + 1\n",
    "\n",
    "uint256 pubCount = _profileById[vars.profileIdPointed].pubCount;\n",
    "_pubByIdByProfile[vars.profileId][pubId].contentURI = vars.contentURI;\n",
    "_pubByIdByProfile[vars.profileId][pubId].profileIdPointed = vars.profileIdPointed;\n",
    "_pubByIdByProfile[vars.profileId][pubId].pubIdPointed = vars.pubIdPointed;\n",
    "\n",
    "```"
   ]
  },
  {
   "attachments": {},
   "cell_type": "markdown",
   "metadata": {},
   "source": [
    "方法`createMirror`的核心logic\n",
    "```\n",
    "(uint256 rootProfileIdPointed, uint256 rootPubIdPointed, ) = Helpers.getPointedIfMirror(\n",
    "            vars.profileIdPointed,\n",
    "            vars.pubIdPointed,\n",
    "            _pubByIdByProfile\n",
    "        );\n",
    "\n",
    "_pubByIdByProfile[vars.profileId][pubId].profileIdPointed = rootProfileIdPointed;\n",
    "_pubByIdByProfile[vars.profileId][pubId].pubIdPointed = rootPubIdPointed;\n",
    "\n",
    "```"
   ]
  },
  {
   "cell_type": "code",
   "execution_count": null,
   "metadata": {},
   "outputs": [],
   "source": []
  },
  {
   "attachments": {},
   "cell_type": "markdown",
   "metadata": {},
   "source": [
    "## Profile Interaction - Follow \n",
    "\n",
    "方法`createMirror`的核心logic\n",
    "```\n",
    "address followModule = _profileById[profileId].followModule;\n",
    "address followNFT = _profileById[profileId].followNFT;\n",
    "\n",
    "if (followNFT == address(0)) {\n",
    "    followNFT = _deployFollowNFT(profileId);\n",
    "    _profileById[profileId].followNFT = followNFT;\n",
    "}\n",
    "\n",
    "tokenId = IFollowNFT(followNFT).mint(follower);\n",
    "\n",
    "if (followModule != address(0)) {\n",
    "    IFollowModule(followModule).processFollow(\n",
    "        follower,\n",
    "        profileId,\n",
    "        followModuleData\n",
    "    );\n",
    "}\n",
    "```"
   ]
  },
  {
   "attachments": {},
   "cell_type": "markdown",
   "metadata": {},
   "source": [
    "在进行follow操作下[Tx](https://mumbai.polygonscan.com/tx/0x0e5df1cb2212f724ca7d82f304a1203b1fb711a15b0fe9556a18225527f61cd0)\n",
    "\n",
    "就会给`From`地址mint一个ERC-721的Token\n",
    "\n",
    "可进行`Transfer`操作[Tx](https://mumbai.polygonscan.com/token/0xe8fa8ad2d5d0bd402f8115f6e2d4e24ebca8cca7?a=48)\n",
    "对LenHub产生影响的部分在交易log中有体现，但具体的数据关联还不够清晰\n",
    "\n",
    "取消Follow操作[Tx](https://mumbai.polygonscan.com/tx/0x964c06e320484b66f7b3e9431dfef16cd364e73a511e03707499125cf7e56e00)\n",
    "就是Burn掉对应的ERC-721的token\n",
    "\n",
    "🤔️ UI-APP可以看到follows的地址，但是合约中没有找到可以一次性查询到地址下所有的follow数据\n"
   ]
  },
  {
   "attachments": {},
   "cell_type": "markdown",
   "metadata": {},
   "source": [
    "## Profile Interaction - Collect\n",
    "\n",
    "方法`createCollect`的核心logic\n",
    "```\n",
    "address collectNFT = _pubByIdByProfile[rootProfileId][rootPubId].collectNFT;\n",
    "\n",
    "if (collectNFT == address(0)) {\n",
    "    collectNFT = Clones.clone(collectNFTImpl);\n",
    "    _pubByIdByProfile[rootProfileId][rootPubId].collectNFT = collectNFT;\n",
    "\n",
    "    ICollectNFT(collectNFT).initialize(\n",
    "                rootProfileId,\n",
    "                rootPubId,\n",
    "                collectNFTName,\n",
    "                collectNFTSymbol\n",
    "            );\n",
    "\n",
    "ICollectNFT(collectNFT).mint(collector);\n",
    "\n",
    "ICollectModule(rootCollectModule).processCollect(\n",
    "            profileId,\n",
    "            collector,\n",
    "            rootProfileId,\n",
    "            rootPubId,\n",
    "            collectModuleData\n",
    "        );\n",
    "```"
   ]
  },
  {
   "cell_type": "code",
   "execution_count": null,
   "metadata": {},
   "outputs": [],
   "source": []
  },
  {
   "attachments": {},
   "cell_type": "markdown",
   "metadata": {},
   "source": [
    "## 还存在的问题\n",
    "\n",
    "还存在的没有理解的技术实现\n"
   ]
  },
  {
   "attachments": {},
   "cell_type": "markdown",
   "metadata": {},
   "source": [
    "Q：如何实现限制性查看帖子的功能的？链上存的数据是什么？为什么满足了限制条件就能看到内容了？"
   ]
  },
  {
   "attachments": {},
   "cell_type": "markdown",
   "metadata": {},
   "source": [
    "Q：如何实现帖子开放/关闭“评论，转发，点赞”的功能的？"
   ]
  },
  {
   "attachments": {},
   "cell_type": "markdown",
   "metadata": {},
   "source": [
    "Q：如何实现App页面“like”功能的，这个并没有设计在Lens protocol的合约中？"
   ]
  },
  {
   "attachments": {},
   "cell_type": "markdown",
   "metadata": {},
   "source": [
    "Q：合约没有“删帖”的功能，如何去限制不适合被发布的信息内容？"
   ]
  },
  {
   "attachments": {},
   "cell_type": "markdown",
   "metadata": {},
   "source": [
    "Q: 合约的storage数据如何支持frontend的统计维度，eg expoler页面每个帖子的时间，comment总数，collect总数，mirror总数？"
   ]
  },
  {
   "cell_type": "code",
   "execution_count": null,
   "metadata": {},
   "outputs": [],
   "source": []
  },
  {
   "attachments": {},
   "cell_type": "markdown",
   "metadata": {},
   "source": [
    "Follow Module的签名交易\n",
    "\n",
    "```\n",
    "function setFollowModule(\n",
    "    uint256 profileId,\n",
    "    address followModule,\n",
    "    bytes calldata followModuleData\n",
    ") external;\n",
    "\n",
    "\n",
    "function setFollowModuleWithSig(\n",
    "    DataTypes.SetFollowModuleWithSigData calldata vars\n",
    ") external;\n",
    "```"
   ]
  },
  {
   "cell_type": "code",
   "execution_count": null,
   "metadata": {},
   "outputs": [],
   "source": []
  }
 ],
 "metadata": {
  "kernelspec": {
   "display_name": "Python 3",
   "language": "python",
   "name": "python3"
  },
  "language_info": {
   "codemirror_mode": {
    "name": "ipython",
    "version": 3
   },
   "file_extension": ".py",
   "mimetype": "text/x-python",
   "name": "python",
   "nbconvert_exporter": "python",
   "pygments_lexer": "ipython3",
   "version": "3.8.16 (default, Jan  6 2023, 15:21:54) \n[GCC 9.4.0]"
  },
  "orig_nbformat": 4,
  "vscode": {
   "interpreter": {
    "hash": "6823027d7e29b41a4e6f28161e95b4dfbe0e8b9a6a7278f50ef7cf75c6459dbe"
   }
  }
 },
 "nbformat": 4,
 "nbformat_minor": 2
}
