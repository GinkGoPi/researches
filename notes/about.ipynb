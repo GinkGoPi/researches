{
 "cells": [
  {
   "attachments": {},
   "cell_type": "markdown",
   "metadata": {},
   "source": [
    "# About Lens Protocol\n",
    "\n",
    "![basic](https://i.imgur.com/pWpQcTg.png)"
   ]
  },
  {
   "attachments": {},
   "cell_type": "markdown",
   "metadata": {},
   "source": [
    "## What's the Lens Protocol？\n",
    "\n",
    "> *Lens Protocol is a composable, decentralized social graph on the [**Polygon**](https://learn.bybit.com/altcoins/what-is-matic-coin-polygon/) proof of stake ([**PoS**](https://learn.bybit.com/blockchain/what-is-proof-of-stake/)) **blockchain that empowers creators and puts them in control of their content and data. Lens was delevoped by Aave team, which was first available on Polygon Mainnet in May 2022."
   ]
  },
  {
   "attachments": {},
   "cell_type": "markdown",
   "metadata": {},
   "source": [
    "**Lens Protocol: A Decentralized & Composable Social Network**\n",
    "\n",
    "![](https://miro.medium.com/max/1400/0*EASj7MIdrxE35TSF.jpeg)"
   ]
  },
  {
   "attachments": {},
   "cell_type": "markdown",
   "metadata": {},
   "source": [
    "Lens Protocol evolves and thrives on the contributions of its community.\n",
    "\n",
    "[Lensverse](https://www.lens.xyz/apps)\n",
    "\n",
    "![lensverse](https://i.imgur.com/GwUSmG9.jpg)"
   ]
  },
  {
   "attachments": {},
   "cell_type": "markdown",
   "metadata": {},
   "source": [
    "## How Does Lens Protocol Work?\n",
    "\n",
    "> Lens Protocol is created using a graph database.\n",
    "> \n",
    "> These databases store data in graph topologies, which have individual nodes, edges connecting them, places, things, and other attributes. These graphs display the connections between network members.\n",
    "\n",
    "![](https://files.readme.io/27b2bc4-illustration_tend.svg)\n",
    "\n",
    "\n",
    "**Lens Protocol’s reality is distinct due to [nonfungible tokens (NFTs)](https://coingape.com/glossary/nft-non-fungible-token/) and modularity.**\n"
   ]
  },
  {
   "attachments": {},
   "cell_type": "markdown",
   "metadata": {},
   "source": [
    "### Profile NFTs\n",
    "\n",
    "> Any address can create a profile and receive an ERC-721 `Lens Profile` NFT."
   ]
  },
  {
   "attachments": {},
   "cell_type": "markdown",
   "metadata": {},
   "source": [
    "The Profile NFT is the main object in the Lens Protocol. It is ownership over this NFT that gives you control of your content.\n",
    "\n",
    "Each profile [gets its own NFT](https://docs.lens.xyz/docs/profile). Content and interactions with that content are stored on the token. A wallet address can own more than one profile NFT, if you like to manage multiple social media accounts.\n",
    "\n",
    "[UI - Setting Profile](https://testnet.lenster.xyz/settings)\n",
    "\n",
    "[NFT market](https://testnet.rarible.com/token/polygon/0x60Ae865ee4C725cd04353b5AAb364553f56ceF82:25187)"
   ]
  },
  {
   "attachments": {},
   "cell_type": "markdown",
   "metadata": {},
   "source": [
    "### Publication\n",
    "> Profile owners can `publish` to any profile they own.\n",
    ">\n",
    "> Publications have a ContentURI which points to the specific content the publication contains, this can point to text, an image, a video, or other arbitrary content stored on either a decentralized protocol such as [IPFS](https://ipfs.io/) or [Arweave](https://www.arweave.org/), or a centralized storage provider like AWS S3.\n",
    "> "
   ]
  },
  {
   "attachments": {},
   "cell_type": "markdown",
   "metadata": {},
   "source": [
    "**📣 Publications are NOT NFT's.**"
   ]
  },
  {
   "attachments": {},
   "cell_type": "markdown",
   "metadata": {},
   "source": [
    "Lens Protocol has three types of publication:\n",
    "\n",
    "1. `Post` a standard piece of content.\n",
    "\n",
    "    Posts contain:\n",
    "    1. A URI, pointing to the actual publication body's [metadata](https://docs.lens.xyz/docs/metadata-standards) JSON, including any images or text.\n",
    "    2. An uninitialized pointer, since pointers are only needed in mirrors and comments.\n",
    "\n",
    "2. `Comment` a standard piece of content with a pointer to another publication.\n",
    "\n",
    "    Comments contain:\n",
    "    1. A URI, just like posts, pointing to the publication body's [metadata](https://docs.lens.xyz/docs/metadata-standards) JSON.\n",
    "    2. An initialized pointer, containing the profile ID and the publication ID of the publication commented on\n",
    "\n",
    "3. `Mirror` the equivalent of a \"share\" in a traditional sense, having no content but a pointer to another publication.\n",
    "\n",
    "    Mirrors contain:\n",
    "    1. An empty URI, since they cannot have content associated with them.\n",
    "    2. An initialized pointer, containing the profile ID and the publication ID of the mirrored publication.\n",
    "\n",
    "\n",
    "[UI - Post](https://testnet.lenster.xyz/posts/0x6263-0x02)\n",
    "\n",
    "[UI - Comment](https://testnet.lenster.xyz/posts/0x6433-0x05)\n",
    "\n",
    "[UI - Mirror](https://testnet.lenster.xyz/u/witte)"
   ]
  },
  {
   "attachments": {},
   "cell_type": "markdown",
   "metadata": {},
   "source": [
    "### Interaction\n",
    "> Interaction is an umbrella term that encompasses all the two-way conversations and touchpoints that occur between companies and consumers."
   ]
  },
  {
   "attachments": {},
   "cell_type": "markdown",
   "metadata": {},
   "source": [
    "Lens Protocol has two types of interaction:\n",
    "\n",
    "1. `Follow` \"Following\" on the Lens Protocol differs from following in Web2 social applications.\n",
    "  \n",
    "    Following someone gives you a [Follow NFT](https://docs.lens.xyz/docs/follow). It includes a rarity ranking and utility. One possible utility is voting rights, if the individual you’re following offers it.\n",
    "  \n",
    "2. `Collect` collect publications based on the owner's regulations.\n",
    "  \n",
    "    Collecting someone gives you a [Collect NFT](https://docs.lens.xyz/docs/follow). Successful collects result in a new, unique NFT being minted, essentially as a saved copy of the original publication. There is one deployed collect NFT contract per publication, and it's deployed upon the first successful collect.\n",
    "  \n",
    "\n",
    "[Chain - FollowNFT](https://mumbai.polygonscan.com/token/0x5832be646a8a7a1a7a7843efd6b8165ac06e360d#balances)\n",
    "\n",
    "[Chain - CollectNFT](https://mumbai.polygonscan.com/token/0x798cab5ca87260b8b3ab811c04c442a8aa8f654e#balances)"
   ]
  },
  {
   "attachments": {},
   "cell_type": "markdown",
   "metadata": {},
   "source": [
    "### Modularity\n",
    "> Modularity is at the core of the Lens protocol. Everything is built with community expansion and the continued development of new, innovative features in mind.\n",
    "> \n",
    "> Modules are standalone, governance-whitelisted contracts that adhere to a specific interface. They hold state and are unlimited in potential scope beyond adhering to the interface."
   ]
  },
  {
   "attachments": {},
   "cell_type": "markdown",
   "metadata": {},
   "source": [
    "Lens Protocol has three types of modules:\n",
    "\n",
    "1. `Follow Modules` contain custom logic to be executed upon follow.\n",
    "2. `Collect Modules` contain custom logic to be executed upon collect. Typically, these modules include at least a check that the collector is a follower.\n",
    "3. `Reference Modules` contain custom logic to be executed upon comment and mirror. These modules can be used to limit who is able to comment and interact with a profile."
   ]
  },
  {
   "attachments": {},
   "cell_type": "markdown",
   "metadata": {},
   "source": [
    "## What's the advantages and disadvantages?\n",
    "> Building a social network is hard. Lens Protocol makes it easy. but some problems with the following.\n"
   ]
  },
  {
   "attachments": {},
   "cell_type": "markdown",
   "metadata": {},
   "source": [
    "#### Advantages:\n",
    "\n",
    "- Lens Protocol is a user-owned, open social graph that any application can plug into.\n",
    "- Mint a profile, follow others, create and collect any publications, completely on-chain.\n",
    "- Own your content. Own your social graph. Own your data.\n",
    "- Lens Protocol’s PoS algorithm makes its blockchain energy-efficient and affordable\n",
    "\n",
    "#### Disadvantages:\n",
    "\n",
    "- Lens Protocol allows only governance-whitelisted addresses to create profiles.\n",
    "- Blockchains are often limited in the amount of on-chain storage capacity, and as a result, not all content and NFTs are stored on this level and require another storage solution.\n",
    "- All original files are stored in distributed file storage systems such as IPFS, Arweave or even providers like AWS S3. Thus, any users’ content can be potentially manipulated."
   ]
  },
  {
   "attachments": {},
   "cell_type": "markdown",
   "metadata": {},
   "source": [
    "## Contracts implementation"
   ]
  },
  {
   "attachments": {},
   "cell_type": "markdown",
   "metadata": {},
   "source": [
    "[contracts impl](./profile.ipynb)"
   ]
  },
  {
   "attachments": {},
   "cell_type": "markdown",
   "metadata": {},
   "source": [
    "## Reference \n",
    "\n"
   ]
  },
  {
   "cell_type": "markdown",
   "metadata": {},
   "source": []
  }
 ],
 "metadata": {
  "kernelspec": {
   "display_name": "Python 3",
   "language": "python",
   "name": "python3"
  },
  "language_info": {
   "codemirror_mode": {
    "name": "ipython",
    "version": 3
   },
   "file_extension": ".py",
   "mimetype": "text/x-python",
   "name": "python",
   "nbconvert_exporter": "python",
   "pygments_lexer": "ipython3",
   "version": "3.8.16"
  },
  "orig_nbformat": 4,
  "vscode": {
   "interpreter": {
    "hash": "6823027d7e29b41a4e6f28161e95b4dfbe0e8b9a6a7278f50ef7cf75c6459dbe"
   }
  }
 },
 "nbformat": 4,
 "nbformat_minor": 2
}
