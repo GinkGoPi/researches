{
  "nbformat": 4,
  "nbformat_minor": 0,
  "metadata": {
    "colab": {
      "provenance": [],
      "authorship_tag": "ABX9TyNjkdwA+WdL5KE35delP1ok",
      "include_colab_link": true
    },
    "kernelspec": {
      "name": "python3",
      "display_name": "Python 3"
    },
    "language_info": {
      "name": "python"
    }
  },
  "cells": [
    {
      "cell_type": "markdown",
      "metadata": {
        "id": "view-in-github",
        "colab_type": "text"
      },
      "source": [
        "<a href=\"https://colab.research.google.com/github/GinkGoPi/researches/blob/main/Farcaster-protocol/about.ipynb\" target=\"_parent\"><img src=\"https://colab.research.google.com/assets/colab-badge.svg\" alt=\"Open In Colab\"/></a>"
      ]
    },
    {
      "cell_type": "markdown",
      "source": [
        "# About Farcaster Protocol\n",
        "\n",
        "[farcaster](https://github.com/farcasterxyz/protocol#readme)\n",
        "\n",
        "Farcaster is a protocol for building decentralized social applications.\n",
        "\n",
        "The Layer1 blockchain manages user identifies, while a Layer2 network propagates updates beteen user.\n",
        "\n",
        "1. Secure, memorable, and human-readable user identifiers like `@alice`\n",
        "2. Real-time settlement and propagates of changes between users.\n",
        "3. Decentralized access to all data on the network at reasonable costs."
      ],
      "metadata": {
        "id": "hIhVJLwROJDl"
      }
    },
    {
      "cell_type": "markdown",
      "source": [
        "Users start by registering a public-private key-pair and an id with an Ethereum contract.\n",
        "\n",
        "🤔 what's the key-piar effect? vs only Id, what's the differents?"
      ],
      "metadata": {
        "id": "Ltncf85gQahS"
      }
    },
    {
      "cell_type": "markdown",
      "source": [
        "## Identity\n",
        "\n",
        "Has three components:\n",
        "- A unique, numeric identifier(e.g. 8090)\n",
        "- An ECDSA key-pair that can sign messages\n",
        "- An optional, cosmetic username from a name registry(e.g. alice)\n",
        "\n",
        "Contracts keep track of each user's id, key pair, and username on-chain."
      ],
      "metadata": {
        "id": "f0Z5pHitOnpr"
      }
    },
    {
      "cell_type": "markdown",
      "source": [
        "### Fid(Farcaster ID)\n",
        "\n",
        "A Fid is the canonical identifier for a user or roganization.\n",
        "Users can register fids to an Ethereum address. Users can transfer fids to a new address.\n",
        "\n",
        "Users can sign a message containing their fid with the ECDSA key-pair of their address.\n",
        "\n",
        "🤔 这是什么意思？"
      ],
      "metadata": {
        "id": "ew1LYsu4bkUS"
      }
    },
    {
      "cell_type": "code",
      "execution_count": null,
      "metadata": {
        "id": "yW2oN15SOHf_"
      },
      "outputs": [],
      "source": []
    }
  ]
}