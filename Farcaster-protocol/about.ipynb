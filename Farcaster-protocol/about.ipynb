{
  "nbformat": 4,
  "nbformat_minor": 0,
  "metadata": {
    "colab": {
      "provenance": [],
      "authorship_tag": "ABX9TyOd2ZBSgdMu/P9LHoT94Z+J",
      "include_colab_link": true
    },
    "kernelspec": {
      "name": "python3",
      "display_name": "Python 3"
    },
    "language_info": {
      "name": "python"
    }
  },
  "cells": [
    {
      "cell_type": "markdown",
      "metadata": {
        "id": "view-in-github",
        "colab_type": "text"
      },
      "source": [
        "<a href=\"https://colab.research.google.com/github/GinkGoPi/researches/blob/main/Farcaster-protocol/about.ipynb\" target=\"_parent\"><img src=\"https://colab.research.google.com/assets/colab-badge.svg\" alt=\"Open In Colab\"/></a>"
      ]
    },
    {
      "cell_type": "markdown",
      "source": [
        "# About Farcaster Protocol\n",
        "\n",
        "[farcaster](https://github.com/farcasterxyz/protocol#readme)\n",
        "\n",
        "Farcaster is a protocol for building decentralized social applications.\n",
        "\n",
        "## Overview\n",
        "\n",
        "Farcaster is a sufficiently decentralized social network.\n",
        "Farcaster is built as an open protocol that can support multiple clients - similar to an email service.\n",
        "This alse means users of Farcaster will have the freedom to move their social identify between platforms.\n",
        "\n",
        "The Layer1 blockchain manages user identifies, while a Layer2 network propagates updates beteen user.\n",
        "\n",
        "1. Secure, memorable, and human-readable user identifiers like `@alice`\n",
        "2. Real-time settlement and propagates of changes between users.\n",
        "3. Decentralized access to all data on the network at reasonable costs."
      ],
      "metadata": {
        "id": "hIhVJLwROJDl"
      }
    },
    {
      "cell_type": "markdown",
      "source": [
        "## What's Farcaster Protocol?\n",
        "\n",
        "Farcaster is a \"sufficiently decentralized\" social network.\n",
        "The \"sufficiently\" part comes into the basic architecture of Farcaster as it uses both on and off-chain data.\n",
        "\n",
        "Your identity on the platform is stored on-chain in an Ethereum smart contract.This offers the full security and consistency of Ethereum.You're able to link an Ethereum address with your Farcaster ID.\n",
        "\n",
        "Farcaster uses that ID to sign off-chain messages.these messages are stored in user-controlled serves called Farcaster Hubs.Data is not stored on chain because it would be extremely expensive and slow."
      ],
      "metadata": {
        "id": "9ja1NK8WcqYn"
      }
    },
    {
      "cell_type": "markdown",
      "source": [
        "## What problem does Farcaster solve?\n",
        "\n",
        "Ensure both security and ease to use."
      ],
      "metadata": {
        "id": "Ee-UHMMZeyl5"
      }
    },
    {
      "cell_type": "markdown",
      "source": [
        "Users start by registering a public-private key-pair and an id with an Ethereum contract.\n",
        "\n",
        "🤔 what's the key-piar effect? vs only Id, what's the differents?"
      ],
      "metadata": {
        "id": "Ltncf85gQahS"
      }
    },
    {
      "cell_type": "markdown",
      "source": [
        "## Identity\n",
        "\n",
        "Has three components:\n",
        "- A unique, numeric identifier(e.g. 8090)\n",
        "- An ECDSA key-pair that can sign messages\n",
        "- An optional, cosmetic username from a name registry(e.g. alice)\n",
        "\n",
        "Contracts keep track of each user's id, key pair, and username on-chain."
      ],
      "metadata": {
        "id": "f0Z5pHitOnpr"
      }
    },
    {
      "cell_type": "markdown",
      "source": [
        "### Fid(Farcaster ID)\n",
        "\n",
        "A Fid is the canonical identifier for a user or roganization.\n",
        "Users can register fids to an Ethereum address. Users can transfer fids to a new address.\n",
        "\n",
        "Users can sign a message containing their fid with the ECDSA key-pair of their address.\n",
        "\n",
        "🤔 这是什么意思？"
      ],
      "metadata": {
        "id": "ew1LYsu4bkUS"
      }
    },
    {
      "cell_type": "markdown",
      "source": [
        "### Fname(Farcaster Names)\n",
        "\n",
        "A Fname is an human-readable identifier for users and orgaanizations.\n",
        "\n",
        "Users can ger register an Fname to a custody address, for a yera at a time by paying a fee to contract, which issues each one as an NFT.\n",
        "\n",
        "🤔 这个过程与ENS非常的类似，那么注册Fname与Fid之间的绑定关系是如何实现？\n",
        "\n"
      ],
      "metadata": {
        "id": "sgjMjvqgDLt0"
      }
    },
    {
      "cell_type": "markdown",
      "source": [
        "### Recovery\n",
        "\n",
        "对常规用户使用习惯和web3的去中心化之间的构建的，实现“账号恢复”的功能"
      ],
      "metadata": {
        "id": "y0SwZUkVDO0Q"
      }
    },
    {
      "cell_type": "markdown",
      "source": [
        "## Contract Architecture\n",
        "\n",
        "Farcaster contracts in mainnet\n",
        "\n",
        "|      |      |\n",
        "| ---- | ---- |\n",
        "|Name |Address|\n",
        "|IdRegistry |0xda107a1caf36d198b12c16c7b6a1d1c795978c42 |\n",
        "|NameRegistry |0xe3be01d99baa8db9905b33a3ca391238234b79d1 |\n",
        "|BundleRegistry |xdb647193df79ce69b5d34549aae98d519223f682 |\n"
      ],
      "metadata": {
        "id": "qe02twFYmycO"
      }
    },
    {
      "cell_type": "markdown",
      "source": [
        "**IdRegistry**\n",
        "> Enable any ETH address to claim a unique Farcaster ID.\n",
        "\n",
        "**NameRegistry**\n",
        "> NameRegistry enables any ETH address to claim a Farcaster Name (fname)\n",
        "\n",
        "**BundleRegistry**\n",
        "> Allows user to register a Farcaster Name and Farcaster ID in a single transcation by wrapping around the IdRegistry and NameRegistry contracts, saving gas and reducing complexity for the caller."
      ],
      "metadata": {
        "id": "7XsZCFm_nb1I"
      }
    },
    {
      "cell_type": "code",
      "execution_count": null,
      "metadata": {
        "id": "yW2oN15SOHf_"
      },
      "outputs": [],
      "source": []
    }
  ]
}